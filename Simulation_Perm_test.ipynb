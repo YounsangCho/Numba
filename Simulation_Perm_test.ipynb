{
 "cells": [
  {
   "cell_type": "code",
   "execution_count": 1,
   "metadata": {},
   "outputs": [],
   "source": [
    "import numpy as np\n",
    "import time\n",
    "from mlxtend.evaluate import permutation_test\n",
    "from numba import njit, float64, int64"
   ]
  },
  {
   "cell_type": "code",
   "execution_count": 2,
   "metadata": {},
   "outputs": [],
   "source": [
    "from Permutation_test import est_null, compute_pvalue"
   ]
  },
  {
   "cell_type": "markdown",
   "metadata": {},
   "source": [
    "## The function for estimating the null distribution with just-in-time eager compilation"
   ]
  },
  {
   "cell_type": "code",
   "execution_count": 3,
   "metadata": {},
   "outputs": [],
   "source": [
    "@njit('float64[:](float64[:],float64[:],float64[:],int64)')\n",
    "def njit_est_null(x, y, xy, iteration = 10000):\n",
    "    n = x.shape[0]\n",
    "    null_dist = np.zeros(iteration)\n",
    "    \n",
    "    np.random.seed(42)\n",
    "    for i in range(iteration):\n",
    "        temp = np.random.permutation(xy)\n",
    "        temp_x, temp_y = temp[:n], temp[n:]\n",
    "        null_dist[i] = np.mean(temp_x) - np.mean(temp_y)\n",
    "        \n",
    "    return null_dist"
   ]
  },
  {
   "cell_type": "markdown",
   "metadata": {},
   "source": [
    "## The function for estimating the null distribution with just-in-time lazy compilation"
   ]
  },
  {
   "cell_type": "code",
   "execution_count": 4,
   "metadata": {},
   "outputs": [],
   "source": [
    "@njit\n",
    "def njit_est_null_lazy(x, y, xy, iteration = 10000):\n",
    "    n = x.shape[0]\n",
    "    null_dist = np.zeros(iteration)\n",
    "    \n",
    "    np.random.seed(42)\n",
    "    for i in range(iteration):\n",
    "        temp = np.random.permutation(xy)\n",
    "        temp_x, temp_y = temp[:n], temp[n:]\n",
    "        null_dist[i] = np.mean(temp_x) - np.mean(temp_y)\n",
    "        \n",
    "    return null_dist"
   ]
  },
  {
   "cell_type": "markdown",
   "metadata": {},
   "source": [
    "### Setting 1: $\\mu_1 = 0, \\mu_2 = 0$ , length = 50"
   ]
  },
  {
   "cell_type": "code",
   "execution_count": 5,
   "metadata": {},
   "outputs": [],
   "source": [
    "naive_time_1 = []\n",
    "np.random.seed(42)\n",
    "for i in range(10):\n",
    "    \n",
    "    t1 = time.time()\n",
    "    tmp_null = est_null(mu1 = 0, mu2 = 0, n=50)\n",
    "    compute_pvalue(mu1 = 0, mu2 = 0, n = 50, null_dist = tmp_null,iteration =1)\n",
    "    t2 = time.time()\n",
    "    \n",
    "    naive_time_1.append(t2-t1)\n"
   ]
  },
  {
   "cell_type": "code",
   "execution_count": 6,
   "metadata": {},
   "outputs": [],
   "source": [
    "njit_time_1 = []\n",
    "np.random.seed(42)\n",
    "for i in range(10):\n",
    "    t1 = time.time()\n",
    "    x = np.random.normal(loc=0, size = 50)\n",
    "    y = np.random.normal(loc=0, size = 50)\n",
    "    xy = np.r_[x,y]\n",
    "    tmp_null = njit_est_null(x,y,xy, 10000)\n",
    "    test_pvalue1 = compute_pvalue(mu1 = 0, mu2 = 0, n = 50, null_dist = tmp_null,iteration = 1)\n",
    "    t2 = time.time()\n",
    "    \n",
    "    njit_time_1.append(t2-t1)"
   ]
  },
  {
   "cell_type": "code",
   "execution_count": 7,
   "metadata": {},
   "outputs": [],
   "source": [
    "njit_lazy_time_1 = []\n",
    "np.random.seed(42)\n",
    "for i in range(10):\n",
    "    t1 = time.time()\n",
    "    x = np.random.normal(loc=0, size = 50)\n",
    "    y = np.random.normal(loc=0, size = 50)\n",
    "    xy = np.r_[x,y]\n",
    "    tmp_null = njit_est_null_lazy(x,y,xy, 10000)\n",
    "    test_pvalue1 = compute_pvalue(mu1 = 0, mu2 = 0, n = 50, null_dist = tmp_null,iteration = 1)\n",
    "    t2 = time.time()\n",
    "    \n",
    "    njit_lazy_time_1.append(t2-t1)"
   ]
  },
  {
   "cell_type": "code",
   "execution_count": 8,
   "metadata": {},
   "outputs": [],
   "source": [
    "mlx_perm_time_1 = []\n",
    "np.random.seed(42)\n",
    "for i in range(10):\n",
    "    t1 = time.time()\n",
    "    x = np.random.normal(loc = 0, size = 50)\n",
    "    y = np.random.normal(loc = 0, size = 50)\n",
    "    test_pvalue2 = permutation_test(x, y, method = \"approximate\", num_rounds = 10000, seed = 42)\n",
    "    t2 = time.time()\n",
    "    \n",
    "    mlx_perm_time_1.append(t2-t1)"
   ]
  },
  {
   "cell_type": "code",
   "execution_count": 9,
   "metadata": {},
   "outputs": [
    {
     "name": "stdout",
     "output_type": "stream",
     "text": [
      "[0.5837]\n",
      "0.8223\n"
     ]
    }
   ],
   "source": [
    "print(test_pvalue1)\n",
    "print(test_pvalue2)"
   ]
  },
  {
   "cell_type": "code",
   "execution_count": 10,
   "metadata": {},
   "outputs": [
    {
     "name": "stdout",
     "output_type": "stream",
     "text": [
      "Setting 1: mu_1 = 0, mu_2 = 0, length = 50\n",
      "naive time: 0.14095335006713866\n",
      "naive std: 0.0019018269722535586\n",
      "njit time (with compilation): 0.008694648742675781\n",
      "njit time (after compilation): 0.008419169320000542\n",
      "njit std: 6.0018271158874136e-05\n",
      "njit time (with lazy compilation): 0.22341680526733398\n",
      "njit time (after lazy compilation): 0.007436513900756836\n",
      "njit lazy std: 5.0526575041082416e-05\n",
      "mlxtend package time: 0.12671475410461425\n",
      "mlxtend std: 0.0004873791721449307\n"
     ]
    }
   ],
   "source": [
    "print(\"Setting 1: mu_1 = 0, mu_2 = 0, length = 50\")\n",
    "print(\"naive time: \" + str(np.mean(naive_time_1)))\n",
    "print(\"naive std: \" + str(np.std(naive_time_1) / np.sqrt(10)))\n",
    "print(\"njit time (with compilation): \"+ str(njit_time_1[0]))\n",
    "print(\"njit time (after compilation): \"+ str(np.mean(njit_time_1[1:])))\n",
    "print(\"njit std: \"+str(np.std(njit_time_1[1:])/np.sqrt(9)))\n",
    "print(\"njit time (with lazy compilation): \"+ str(njit_lazy_time_1[0]))\n",
    "print(\"njit time (after lazy compilation): \"+ str(np.mean(njit_lazy_time_1[1:])))\n",
    "print(\"njit lazy std: \"+str(np.std(njit_lazy_time_1[1:])/np.sqrt(9)))\n",
    "print(\"mlxtend package time: \" + str(np.mean(mlx_perm_time_1)))\n",
    "print(\"mlxtend std: \" + str(np.std(mlx_perm_time_1)/np.sqrt(10)))"
   ]
  },
  {
   "cell_type": "code",
   "execution_count": 11,
   "metadata": {},
   "outputs": [],
   "source": [
    "np.random.seed(42)\n",
    "x = np.random.normal(loc=0, size = 50)\n",
    "y = np.random.normal(loc=0, size = 50)\n",
    "xy = np.r_[x,y]\n",
    "null_dist_1 = njit_est_null(x,y,xy, 10000)"
   ]
  },
  {
   "cell_type": "code",
   "execution_count": 12,
   "metadata": {},
   "outputs": [],
   "source": [
    "pvalue_vec1=compute_pvalue(mu1 = 0, mu2 = 0, n =50, null_dist = null_dist_1)\n",
    "size_power1= np.mean(pvalue_vec1 < 0.05) #size"
   ]
  },
  {
   "cell_type": "code",
   "execution_count": 13,
   "metadata": {
    "scrolled": true
   },
   "outputs": [
    {
     "data": {
      "text/plain": [
       "0.0778"
      ]
     },
     "execution_count": 13,
     "metadata": {},
     "output_type": "execute_result"
    }
   ],
   "source": [
    "size_power1"
   ]
  },
  {
   "cell_type": "markdown",
   "metadata": {},
   "source": [
    "## Redefine the function in order to recompile"
   ]
  },
  {
   "cell_type": "code",
   "execution_count": 14,
   "metadata": {},
   "outputs": [],
   "source": [
    "@njit('float64[:](float64[:],float64[:],float64[:],int64)')\n",
    "def njit_est_null(x, y, xy, iteration = 10000):\n",
    "    n = x.shape[0]\n",
    "    null_dist = np.zeros(iteration)\n",
    "    \n",
    "    np.random.seed(42)\n",
    "    for i in range(iteration):\n",
    "        temp = np.random.permutation(xy)\n",
    "        temp_x, temp_y = temp[:n], temp[n:]\n",
    "        null_dist[i] = np.mean(temp_x) - np.mean(temp_y)\n",
    "        \n",
    "    return null_dist"
   ]
  },
  {
   "cell_type": "code",
   "execution_count": 15,
   "metadata": {},
   "outputs": [],
   "source": [
    "@njit\n",
    "def njit_est_null_lazy(x, y, xy, iteration = 10000):\n",
    "    n = x.shape[0]\n",
    "    null_dist = np.zeros(iteration)\n",
    "    \n",
    "    np.random.seed(42)\n",
    "    for i in range(iteration):\n",
    "        temp = np.random.permutation(xy)\n",
    "        temp_x, temp_y = temp[:n], temp[n:]\n",
    "        null_dist[i] = np.mean(temp_x) - np.mean(temp_y)\n",
    "        \n",
    "    return null_dist"
   ]
  },
  {
   "cell_type": "markdown",
   "metadata": {},
   "source": [
    "### Setting 2: $\\mu_1 = 0, \\mu_2 = 0.25$ , length = 50"
   ]
  },
  {
   "cell_type": "code",
   "execution_count": 16,
   "metadata": {},
   "outputs": [],
   "source": [
    "naive_time_2 = []\n",
    "np.random.seed(42)\n",
    "for i in range(10):\n",
    "    \n",
    "    t1 = time.time()\n",
    "    tmp_null = est_null(mu1 = 0, mu2 = 0.25, n=50)\n",
    "    compute_pvalue(mu1 = 0, mu2 = 0.25, n = 50, null_dist = tmp_null,iteration = 1)\n",
    "    t2 = time.time()\n",
    "    \n",
    "    naive_time_2.append(t2-t1)\n"
   ]
  },
  {
   "cell_type": "code",
   "execution_count": 17,
   "metadata": {},
   "outputs": [],
   "source": [
    "njit_time_2 = []\n",
    "np.random.seed(42)\n",
    "for i in range(10):\n",
    "    t1 = time.time()\n",
    "    x = np.random.normal(loc=0, size = 50)\n",
    "    y = np.random.normal(loc=0.25, size = 50)\n",
    "    xy = np.r_[x,y]\n",
    "    tmp_null = njit_est_null(x,y,xy, 10000)\n",
    "    test_pvalue1 = compute_pvalue(mu1 = 0, mu2 = 0.25, n = 50, null_dist = tmp_null,iteration = 1)\n",
    "    t2 = time.time()\n",
    "    \n",
    "    njit_time_2.append(t2-t1)"
   ]
  },
  {
   "cell_type": "code",
   "execution_count": 18,
   "metadata": {},
   "outputs": [],
   "source": [
    "njit_lazy_time_2 = []\n",
    "np.random.seed(42)\n",
    "for i in range(10):\n",
    "    t1 = time.time()\n",
    "    x = np.random.normal(loc=0, size = 50)\n",
    "    y = np.random.normal(loc=0.25, size = 50)\n",
    "    xy = np.r_[x,y]\n",
    "    tmp_null = njit_est_null_lazy(x,y,xy, 10000)\n",
    "    test_pvalue1 = compute_pvalue(mu1 = 0, mu2 = 0.25, n = 50, null_dist = tmp_null,iteration = 1)\n",
    "    t2 = time.time()\n",
    "    \n",
    "    njit_lazy_time_2.append(t2-t1)"
   ]
  },
  {
   "cell_type": "code",
   "execution_count": 19,
   "metadata": {},
   "outputs": [],
   "source": [
    "mlx_perm_time_2 = []\n",
    "np.random.seed(42)\n",
    "for i in range(10):\n",
    "    t1 = time.time()\n",
    "    x = np.random.normal(loc = 0, size = 50)\n",
    "    y = np.random.normal(loc = 0.25, size = 50)\n",
    "    test_pvalue2 = permutation_test(x, y, method = \"approximate\", num_rounds = 10000, seed = 42)\n",
    "    t2 = time.time()\n",
    "    \n",
    "    mlx_perm_time_2.append(t2-t1)"
   ]
  },
  {
   "cell_type": "code",
   "execution_count": 20,
   "metadata": {},
   "outputs": [
    {
     "name": "stdout",
     "output_type": "stream",
     "text": [
      "[0.0643]\n",
      "0.3036\n"
     ]
    }
   ],
   "source": [
    "print(test_pvalue1)\n",
    "print(test_pvalue2)"
   ]
  },
  {
   "cell_type": "code",
   "execution_count": 21,
   "metadata": {},
   "outputs": [
    {
     "name": "stdout",
     "output_type": "stream",
     "text": [
      "Setting 2: mu_1 = 0, mu_2 = 0.25, length = 50\n",
      "naive time: 0.1325373888015747\n",
      "naive std: 0.0021025430179090108\n",
      "njit time (with compilation): 0.0076770782470703125\n",
      "njit time (after compilation): 0.007601022720336914\n",
      "njit std: 2.553642701539109e-05\n",
      "njit time (with lazy compilation): 0.12774443626403809\n",
      "njit time (after lazy compilation): 0.007602983050876194\n",
      "njit lazy std: 7.260529751651938e-06\n",
      "mlxtend package time: 0.1273108959197998\n",
      "mlxtend std: 0.00015179228940516524\n"
     ]
    }
   ],
   "source": [
    "print(\"Setting 2: mu_1 = 0, mu_2 = 0.25, length = 50\")\n",
    "print(\"naive time: \" + str(np.mean(naive_time_2)))\n",
    "print(\"naive std: \" + str(np.std(naive_time_2) / np.sqrt(10)))\n",
    "print(\"njit time (with compilation): \"+ str(njit_time_2[0]))\n",
    "print(\"njit time (after compilation): \"+ str(np.mean(njit_time_2[1:])))\n",
    "print(\"njit std: \"+str(np.std(njit_time_2[1:])/np.sqrt(9)))\n",
    "print(\"njit time (with lazy compilation): \"+ str(njit_lazy_time_2[0]))\n",
    "print(\"njit time (after lazy compilation): \"+ str(np.mean(njit_lazy_time_2[1:])))\n",
    "print(\"njit lazy std: \"+str(np.std(njit_lazy_time_2[1:])/np.sqrt(9)))\n",
    "print(\"mlxtend package time: \" + str(np.mean(mlx_perm_time_2)))\n",
    "print(\"mlxtend std: \" + str(np.std(mlx_perm_time_2)/np.sqrt(10)))"
   ]
  },
  {
   "cell_type": "code",
   "execution_count": 22,
   "metadata": {},
   "outputs": [],
   "source": [
    "np.random.seed(42)\n",
    "x = np.random.normal(loc=0, size = 50)\n",
    "y = np.random.normal(loc=0.25, size = 50)\n",
    "xy = np.r_[x,y]\n",
    "null_dist_2 = njit_est_null(x,y,xy, 10000)"
   ]
  },
  {
   "cell_type": "code",
   "execution_count": 23,
   "metadata": {},
   "outputs": [],
   "source": [
    "pvalue_vec2=compute_pvalue(mu1 = 0, mu2 = 0.25, n =50, null_dist = null_dist_2)\n",
    "size_power2= np.mean(pvalue_vec2 < 0.05) #size"
   ]
  },
  {
   "cell_type": "code",
   "execution_count": 24,
   "metadata": {},
   "outputs": [
    {
     "data": {
      "text/plain": [
       "0.2889"
      ]
     },
     "execution_count": 24,
     "metadata": {},
     "output_type": "execute_result"
    }
   ],
   "source": [
    "size_power2"
   ]
  },
  {
   "cell_type": "markdown",
   "metadata": {},
   "source": [
    "## Redefine the function in order to recompile"
   ]
  },
  {
   "cell_type": "code",
   "execution_count": 25,
   "metadata": {},
   "outputs": [],
   "source": [
    "@njit('float64[:](float64[:],float64[:],float64[:],int64)')\n",
    "def njit_est_null(x, y, xy, iteration = 10000):\n",
    "    n = x.shape[0]\n",
    "    null_dist = np.zeros(iteration)\n",
    "    \n",
    "    np.random.seed(42)\n",
    "    for i in range(iteration):\n",
    "        temp = np.random.permutation(xy)\n",
    "        temp_x, temp_y = temp[:n], temp[n:]\n",
    "        null_dist[i] = np.mean(temp_x) - np.mean(temp_y)\n",
    "        \n",
    "    return null_dist"
   ]
  },
  {
   "cell_type": "code",
   "execution_count": 26,
   "metadata": {},
   "outputs": [],
   "source": [
    "@njit\n",
    "def njit_est_null_lazy(x, y, xy, iteration = 10000):\n",
    "    n = x.shape[0]\n",
    "    null_dist = np.zeros(iteration)\n",
    "    \n",
    "    np.random.seed(42)\n",
    "    for i in range(iteration):\n",
    "        temp = np.random.permutation(xy)\n",
    "        temp_x, temp_y = temp[:n], temp[n:]\n",
    "        null_dist[i] = np.mean(temp_x) - np.mean(temp_y)\n",
    "        \n",
    "    return null_dist"
   ]
  },
  {
   "cell_type": "markdown",
   "metadata": {},
   "source": [
    "### Setting 3: $\\mu_1 = 0, \\mu_2 = 0.5$ , length = 50"
   ]
  },
  {
   "cell_type": "code",
   "execution_count": 27,
   "metadata": {},
   "outputs": [],
   "source": [
    "naive_time_3 = []\n",
    "np.random.seed(42)\n",
    "for i in range(10):\n",
    "    \n",
    "    t1 = time.time()\n",
    "    tmp_null = est_null(mu1 = 0, mu2 = 0.5, n=50)\n",
    "    compute_pvalue(mu1 = 0, mu2 = 0.5, n = 50, null_dist = tmp_null,iteration = 1)\n",
    "    t2 = time.time()\n",
    "    \n",
    "    naive_time_3.append(t2-t1)\n"
   ]
  },
  {
   "cell_type": "code",
   "execution_count": 28,
   "metadata": {},
   "outputs": [],
   "source": [
    "njit_time_3 = []\n",
    "np.random.seed(42)\n",
    "for i in range(10):\n",
    "    t1 = time.time()\n",
    "    x = np.random.normal(loc=0, size = 50)\n",
    "    y = np.random.normal(loc=0.5, size = 50)\n",
    "    xy = np.r_[x,y]\n",
    "    tmp_null = njit_est_null(x,y,xy, 10000)\n",
    "    test_pvalue1 = compute_pvalue(mu1 = 0, mu2 = 0.5, n = 50, null_dist = tmp_null,iteration = 1)\n",
    "    t2 = time.time()\n",
    "    \n",
    "    njit_time_3.append(t2-t1)"
   ]
  },
  {
   "cell_type": "code",
   "execution_count": 29,
   "metadata": {},
   "outputs": [],
   "source": [
    "njit_lazy_time_3 = []\n",
    "np.random.seed(42)\n",
    "for i in range(10):\n",
    "    t1 = time.time()\n",
    "    x = np.random.normal(loc=0, size = 50)\n",
    "    y = np.random.normal(loc=0.5, size = 50)\n",
    "    xy = np.r_[x,y]\n",
    "    tmp_null = njit_est_null_lazy(x,y,xy, 10000)\n",
    "    test_pvalue1 = compute_pvalue(mu1 = 0, mu2 = 0.5, n = 50, null_dist = tmp_null,iteration = 1)\n",
    "    t2 = time.time()\n",
    "    \n",
    "    njit_lazy_time_3.append(t2-t1)"
   ]
  },
  {
   "cell_type": "code",
   "execution_count": 30,
   "metadata": {},
   "outputs": [],
   "source": [
    "mlx_perm_time_3 = []\n",
    "np.random.seed(42)\n",
    "for i in range(10):\n",
    "    t1 = time.time()\n",
    "    x = np.random.normal(loc = 0, size = 50)\n",
    "    y = np.random.normal(loc = 0.5, size = 50)\n",
    "    test_pvalue2 = permutation_test(x, y, method = \"approximate\", num_rounds = 10000, seed = 42)\n",
    "    t2 = time.time()\n",
    "    \n",
    "    mlx_perm_time_3.append(t2-t1)"
   ]
  },
  {
   "cell_type": "code",
   "execution_count": 31,
   "metadata": {},
   "outputs": [
    {
     "name": "stdout",
     "output_type": "stream",
     "text": [
      "[0.0013]\n",
      "0.0221\n"
     ]
    }
   ],
   "source": [
    "print(test_pvalue1)\n",
    "print(test_pvalue2)"
   ]
  },
  {
   "cell_type": "code",
   "execution_count": 32,
   "metadata": {},
   "outputs": [
    {
     "name": "stdout",
     "output_type": "stream",
     "text": [
      "Setting 3: mu_1 = 0, mu_2 = 0.5, length = 50\n",
      "naive time: 0.1306918144226074\n",
      "naive std: 0.0014085214430559496\n",
      "njit time (with compilation): 0.007585763931274414\n",
      "njit time (after compilation): 0.007576571570502387\n",
      "njit std: 2.051430105430593e-05\n",
      "njit time (with lazy compilation): 0.13538217544555664\n",
      "njit time (after lazy compilation): 0.0074613359239366316\n",
      "njit lazy std: 8.846427210165513e-06\n",
      "mlxtend package time: 0.13258564472198486\n",
      "mlxtend std: 0.00014467754575656454\n"
     ]
    }
   ],
   "source": [
    "print(\"Setting 3: mu_1 = 0, mu_2 = 0.5, length = 50\")\n",
    "print(\"naive time: \" + str(np.mean(naive_time_3)))\n",
    "print(\"naive std: \" + str(np.std(naive_time_3) / np.sqrt(10)))\n",
    "print(\"njit time (with compilation): \"+ str(njit_time_3[0]))\n",
    "print(\"njit time (after compilation): \"+ str(np.mean(njit_time_3[1:])))\n",
    "print(\"njit std: \"+str(np.std(njit_time_3[1:])/np.sqrt(9)))\n",
    "print(\"njit time (with lazy compilation): \"+ str(njit_lazy_time_3[0]))\n",
    "print(\"njit time (after lazy compilation): \"+ str(np.mean(njit_lazy_time_3[1:])))\n",
    "print(\"njit lazy std: \"+str(np.std(njit_lazy_time_3[1:])/np.sqrt(9)))\n",
    "print(\"mlxtend package time: \" + str(np.mean(mlx_perm_time_3)))\n",
    "print(\"mlxtend std: \" + str(np.std(mlx_perm_time_3)/np.sqrt(10)))"
   ]
  },
  {
   "cell_type": "code",
   "execution_count": 33,
   "metadata": {},
   "outputs": [],
   "source": [
    "np.random.seed(42)\n",
    "x = np.random.normal(loc=0, size = 50)\n",
    "y = np.random.normal(loc=0.5, size = 50)\n",
    "xy = np.r_[x,y]\n",
    "null_dist_3 = njit_est_null(x,y,xy, 10000)"
   ]
  },
  {
   "cell_type": "code",
   "execution_count": 34,
   "metadata": {},
   "outputs": [],
   "source": [
    "pvalue_vec3=compute_pvalue(mu1 = 0, mu2 = 0.5, n =50, null_dist = null_dist_3)\n",
    "size_power3= np.mean(pvalue_vec3 < 0.05) #size"
   ]
  },
  {
   "cell_type": "code",
   "execution_count": 35,
   "metadata": {
    "scrolled": true
   },
   "outputs": [
    {
     "data": {
      "text/plain": [
       "0.7248"
      ]
     },
     "execution_count": 35,
     "metadata": {},
     "output_type": "execute_result"
    }
   ],
   "source": [
    "size_power3"
   ]
  },
  {
   "cell_type": "markdown",
   "metadata": {},
   "source": [
    "## Redefine the function in order to recompile"
   ]
  },
  {
   "cell_type": "code",
   "execution_count": 36,
   "metadata": {},
   "outputs": [],
   "source": [
    "@njit('float64[:](float64[:],float64[:],float64[:],int64)')\n",
    "def njit_est_null(x, y, xy, iteration = 10000):\n",
    "    n = x.shape[0]\n",
    "    null_dist = np.zeros(iteration)\n",
    "    \n",
    "    np.random.seed(42)\n",
    "    for i in range(iteration):\n",
    "        temp = np.random.permutation(xy)\n",
    "        temp_x, temp_y = temp[:n], temp[n:]\n",
    "        null_dist[i] = np.mean(temp_x) - np.mean(temp_y)\n",
    "        \n",
    "    return null_dist"
   ]
  },
  {
   "cell_type": "code",
   "execution_count": 37,
   "metadata": {},
   "outputs": [],
   "source": [
    "@njit\n",
    "def njit_est_null_lazy(x, y, xy, iteration = 10000):\n",
    "    n = x.shape[0]\n",
    "    null_dist = np.zeros(iteration)\n",
    "    \n",
    "    np.random.seed(42)\n",
    "    for i in range(iteration):\n",
    "        temp = np.random.permutation(xy)\n",
    "        temp_x, temp_y = temp[:n], temp[n:]\n",
    "        null_dist[i] = np.mean(temp_x) - np.mean(temp_y)\n",
    "        \n",
    "    return null_dist"
   ]
  },
  {
   "cell_type": "markdown",
   "metadata": {},
   "source": [
    "### Setting 4: $\\mu_1 = 0, \\mu_2 = 0$ , length = 100"
   ]
  },
  {
   "cell_type": "code",
   "execution_count": 38,
   "metadata": {},
   "outputs": [],
   "source": [
    "naive_time_4 = []\n",
    "np.random.seed(42)\n",
    "for i in range(10):\n",
    "    \n",
    "    t1 = time.time()\n",
    "    tmp_null = est_null(mu1 = 0, mu2 = 0, n=100,iteration = 1)\n",
    "    compute_pvalue(mu1 = 0, mu2 = 0, n = 100, null_dist = tmp_null)\n",
    "    t2 = time.time()\n",
    "    \n",
    "    naive_time_4.append(t2-t1)\n"
   ]
  },
  {
   "cell_type": "code",
   "execution_count": 39,
   "metadata": {},
   "outputs": [],
   "source": [
    "njit_time_4 = []\n",
    "np.random.seed(42)\n",
    "for i in range(10):\n",
    "    t1 = time.time()\n",
    "    x = np.random.normal(loc=0, size = 100)\n",
    "    y = np.random.normal(loc=0, size = 100)\n",
    "    xy = np.r_[x,y]\n",
    "    tmp_null = njit_est_null(x,y,xy, 10000)\n",
    "    test_pvalue1 = compute_pvalue(mu1 = 0, mu2 = 0, n = 100, null_dist = tmp_null,iteration = 1)\n",
    "    t2 = time.time()\n",
    "    \n",
    "    njit_time_4.append(t2-t1)"
   ]
  },
  {
   "cell_type": "code",
   "execution_count": 40,
   "metadata": {},
   "outputs": [],
   "source": [
    "njit_lazy_time_4 = []\n",
    "np.random.seed(42)\n",
    "for i in range(10):\n",
    "    t1 = time.time()\n",
    "    x = np.random.normal(loc=0, size = 100)\n",
    "    y = np.random.normal(loc=0, size = 100)\n",
    "    xy = np.r_[x,y]\n",
    "    tmp_null = njit_est_null_lazy(x,y,xy, 10000)\n",
    "    test_pvalue1 = compute_pvalue(mu1 = 0, mu2 = 0, n = 100, null_dist = tmp_null,iteration = 1)\n",
    "    t2 = time.time()\n",
    "    \n",
    "    njit_lazy_time_4.append(t2-t1)"
   ]
  },
  {
   "cell_type": "code",
   "execution_count": 41,
   "metadata": {},
   "outputs": [],
   "source": [
    "mlx_perm_time_4 = []\n",
    "np.random.seed(42)\n",
    "for i in range(10):\n",
    "    t1 = time.time()\n",
    "    x = np.random.normal(loc = 0, size = 100)\n",
    "    y = np.random.normal(loc = 0, size = 100)\n",
    "    test_pvalue2 = permutation_test(x, y, method = \"approximate\", num_rounds = 10000, seed = 42)\n",
    "    t2 = time.time()\n",
    "    \n",
    "    mlx_perm_time_4.append(t2-t1)"
   ]
  },
  {
   "cell_type": "code",
   "execution_count": 42,
   "metadata": {},
   "outputs": [
    {
     "name": "stdout",
     "output_type": "stream",
     "text": [
      "[0.0591]\n",
      "0.3369\n"
     ]
    }
   ],
   "source": [
    "print(test_pvalue1)\n",
    "print(test_pvalue2)"
   ]
  },
  {
   "cell_type": "code",
   "execution_count": 43,
   "metadata": {},
   "outputs": [
    {
     "name": "stdout",
     "output_type": "stream",
     "text": [
      "Setting 4: mu_1 = 0, mu_2 = 0, length = 100\n",
      "naive time: 0.29047768115997313\n",
      "naive std: 0.0007972906413940766\n",
      "njit time (with compilation): 0.015450000762939453\n",
      "njit time (after compilation): 0.01537526978386773\n",
      "njit std: 4.0248504974470955e-05\n",
      "njit time (with lazy compilation): 0.18625330924987793\n",
      "njit time (after lazy compilation): 0.014842960569593642\n",
      "njit lazy std: 3.309360412924839e-05\n",
      "mlxtend package time: 0.14106473922729493\n",
      "mlxtend std: 0.00040761234617831476\n"
     ]
    }
   ],
   "source": [
    "print(\"Setting 4: mu_1 = 0, mu_2 = 0, length = 100\")\n",
    "print(\"naive time: \" + str(np.mean(naive_time_4)))\n",
    "print(\"naive std: \" + str(np.std(naive_time_4) / np.sqrt(10)))\n",
    "print(\"njit time (with compilation): \"+ str(njit_time_4[0]))\n",
    "print(\"njit time (after compilation): \"+ str(np.mean(njit_time_4[1:])))\n",
    "print(\"njit std: \"+str(np.std(njit_time_4[1:])/np.sqrt(9)))\n",
    "print(\"njit time (with lazy compilation): \"+ str(njit_lazy_time_4[0]))\n",
    "print(\"njit time (after lazy compilation): \"+ str(np.mean(njit_lazy_time_4[1:])))\n",
    "print(\"njit lazy std: \"+str(np.std(njit_lazy_time_4[1:])/np.sqrt(9)))\n",
    "print(\"mlxtend package time: \" + str(np.mean(mlx_perm_time_4)))\n",
    "print(\"mlxtend std: \" + str(np.std(mlx_perm_time_4)/np.sqrt(10)))"
   ]
  },
  {
   "cell_type": "code",
   "execution_count": 44,
   "metadata": {},
   "outputs": [],
   "source": [
    "np.random.seed(42)\n",
    "x = np.random.normal(loc=0, size = 100)\n",
    "y = np.random.normal(loc=0, size = 100)\n",
    "xy = np.r_[x,y]\n",
    "null_dist_4 = njit_est_null(x,y,xy, 10000)"
   ]
  },
  {
   "cell_type": "code",
   "execution_count": 45,
   "metadata": {},
   "outputs": [],
   "source": [
    "pvalue_vec4=compute_pvalue(mu1 = 0, mu2 = 0, n =100, null_dist = null_dist_4)\n",
    "size_power4= np.mean(pvalue_vec4 < 0.05) #size"
   ]
  },
  {
   "cell_type": "code",
   "execution_count": 46,
   "metadata": {
    "scrolled": true
   },
   "outputs": [
    {
     "data": {
      "text/plain": [
       "0.0726"
      ]
     },
     "execution_count": 46,
     "metadata": {},
     "output_type": "execute_result"
    }
   ],
   "source": [
    "size_power4"
   ]
  },
  {
   "cell_type": "markdown",
   "metadata": {},
   "source": [
    "## Redefine the function in order to recompile"
   ]
  },
  {
   "cell_type": "code",
   "execution_count": 47,
   "metadata": {},
   "outputs": [],
   "source": [
    "@njit('float64[:](float64[:],float64[:],float64[:],int64)')\n",
    "def njit_est_null(x, y, xy, iteration = 10000):\n",
    "    n = x.shape[0]\n",
    "    null_dist = np.zeros(iteration)\n",
    "    \n",
    "    np.random.seed(42)\n",
    "    for i in range(iteration):\n",
    "        temp = np.random.permutation(xy)\n",
    "        temp_x, temp_y = temp[:n], temp[n:]\n",
    "        null_dist[i] = np.mean(temp_x) - np.mean(temp_y)\n",
    "        \n",
    "    return null_dist"
   ]
  },
  {
   "cell_type": "code",
   "execution_count": 48,
   "metadata": {},
   "outputs": [],
   "source": [
    "@njit\n",
    "def njit_est_null_lazy(x, y, xy, iteration = 10000):\n",
    "    n = x.shape[0]\n",
    "    null_dist = np.zeros(iteration)\n",
    "    \n",
    "    np.random.seed(42)\n",
    "    for i in range(iteration):\n",
    "        temp = np.random.permutation(xy)\n",
    "        temp_x, temp_y = temp[:n], temp[n:]\n",
    "        null_dist[i] = np.mean(temp_x) - np.mean(temp_y)\n",
    "        \n",
    "    return null_dist"
   ]
  },
  {
   "cell_type": "markdown",
   "metadata": {},
   "source": [
    "### Setting 5: $\\mu_1 = 0, \\mu_2 = 0.25$ , length = 100"
   ]
  },
  {
   "cell_type": "code",
   "execution_count": 49,
   "metadata": {},
   "outputs": [],
   "source": [
    "naive_time_5 = []\n",
    "np.random.seed(42)\n",
    "for i in range(10):\n",
    "    \n",
    "    t1 = time.time()\n",
    "    tmp_null = est_null(mu1 = 0, mu2 = 0.25, n=100)\n",
    "    compute_pvalue(mu1 = 0, mu2 = 0.25, n = 100, null_dist = tmp_null,iteration = 1)\n",
    "    t2 = time.time()\n",
    "    \n",
    "    naive_time_5.append(t2-t1)\n"
   ]
  },
  {
   "cell_type": "code",
   "execution_count": 50,
   "metadata": {},
   "outputs": [],
   "source": [
    "njit_time_5 = []\n",
    "np.random.seed(42)\n",
    "for i in range(10):\n",
    "    t1 = time.time()\n",
    "    x = np.random.normal(loc=0, size = 100)\n",
    "    y = np.random.normal(loc=0.25, size = 100)\n",
    "    xy = np.r_[x,y]\n",
    "    tmp_null = njit_est_null(x,y,xy, 10000)\n",
    "    test_pvalue1 = compute_pvalue(mu1 = 0, mu2 = 0.25, n = 100, null_dist = tmp_null,iteration = 1)\n",
    "    t2 = time.time()\n",
    "    \n",
    "    njit_time_5.append(t2-t1)"
   ]
  },
  {
   "cell_type": "code",
   "execution_count": 51,
   "metadata": {},
   "outputs": [],
   "source": [
    "njit_lazy_time_5 = []\n",
    "np.random.seed(42)\n",
    "for i in range(10):\n",
    "    t1 = time.time()\n",
    "    x = np.random.normal(loc=0, size = 100)\n",
    "    y = np.random.normal(loc=0.25, size = 100)\n",
    "    xy = np.r_[x,y]\n",
    "    tmp_null = njit_est_null_lazy(x,y,xy, 10000)\n",
    "    test_pvalue1 = compute_pvalue(mu1 = 0, mu2 = 0.25, n = 100, null_dist = tmp_null,iteration = 1)\n",
    "    t2 = time.time()\n",
    "    \n",
    "    njit_lazy_time_5.append(t2-t1)"
   ]
  },
  {
   "cell_type": "code",
   "execution_count": 52,
   "metadata": {},
   "outputs": [],
   "source": [
    "mlx_perm_time_5 = []\n",
    "np.random.seed(42)\n",
    "for i in range(10):\n",
    "    t1 = time.time()\n",
    "    x = np.random.normal(loc = 0, size = 100)\n",
    "    y = np.random.normal(loc = 0.25, size = 100)\n",
    "    test_pvalue2 = permutation_test(x, y, method = \"approximate\", num_rounds = 10000, seed = 42)\n",
    "    t2 = time.time()\n",
    "    \n",
    "    mlx_perm_time_5.append(t2-t1)"
   ]
  },
  {
   "cell_type": "code",
   "execution_count": 53,
   "metadata": {},
   "outputs": [
    {
     "name": "stdout",
     "output_type": "stream",
     "text": [
      "[1.e-04]\n",
      "0.0054\n"
     ]
    }
   ],
   "source": [
    "print(test_pvalue1)\n",
    "print(test_pvalue2)"
   ]
  },
  {
   "cell_type": "code",
   "execution_count": 54,
   "metadata": {},
   "outputs": [
    {
     "name": "stdout",
     "output_type": "stream",
     "text": [
      "Setting 5: mu_1 = 0, mu_2 = 0.25, length = 100\n",
      "naive time: 0.14952538013458253\n",
      "naive std: 0.0017934156321871685\n",
      "njit time (with compilation): 0.015552997589111328\n",
      "njit time (after compilation): 0.01564780871073405\n",
      "njit std: 0.0005618070591761649\n",
      "njit time (with lazy compilation): 0.1367487907409668\n",
      "njit time (after lazy compilation): 0.015240748723347982\n",
      "njit lazy std: 4.729682059679399e-05\n",
      "mlxtend package time: 0.13962266445159913\n",
      "mlxtend std: 0.00010376735535248137\n"
     ]
    }
   ],
   "source": [
    "print(\"Setting 5: mu_1 = 0, mu_2 = 0.25, length = 100\")\n",
    "print(\"naive time: \" + str(np.mean(naive_time_5)))\n",
    "print(\"naive std: \" + str(np.std(naive_time_5) / np.sqrt(10)))\n",
    "print(\"njit time (with compilation): \"+ str(njit_time_5[0]))\n",
    "print(\"njit time (after compilation): \"+ str(np.mean(njit_time_5[1:])))\n",
    "print(\"njit std: \"+str(np.std(njit_time_5[1:])/np.sqrt(9)))\n",
    "print(\"njit time (with lazy compilation): \"+ str(njit_lazy_time_5[0]))\n",
    "print(\"njit time (after lazy compilation): \"+ str(np.mean(njit_lazy_time_5[1:])))\n",
    "print(\"njit lazy std: \"+str(np.std(njit_lazy_time_5[1:])/np.sqrt(9)))\n",
    "print(\"mlxtend package time: \" + str(np.mean(mlx_perm_time_5)))\n",
    "print(\"mlxtend std: \" + str(np.std(mlx_perm_time_5)/np.sqrt(10)))"
   ]
  },
  {
   "cell_type": "code",
   "execution_count": 55,
   "metadata": {},
   "outputs": [],
   "source": [
    "np.random.seed(42)\n",
    "x = np.random.normal(loc=0, size = 100)\n",
    "y = np.random.normal(loc=0.25, size = 100)\n",
    "xy = np.r_[x,y]\n",
    "null_dist_5 = njit_est_null(x,y,xy, 10000)"
   ]
  },
  {
   "cell_type": "code",
   "execution_count": 56,
   "metadata": {},
   "outputs": [],
   "source": [
    "pvalue_vec5=compute_pvalue(mu1 = 0, mu2 = 0.25, n =100, null_dist = null_dist_5)\n",
    "size_power5= np.mean(pvalue_vec5 < 0.05) #size"
   ]
  },
  {
   "cell_type": "code",
   "execution_count": 57,
   "metadata": {},
   "outputs": [
    {
     "data": {
      "text/plain": [
       "0.4638"
      ]
     },
     "execution_count": 57,
     "metadata": {},
     "output_type": "execute_result"
    }
   ],
   "source": [
    "size_power5"
   ]
  },
  {
   "cell_type": "markdown",
   "metadata": {},
   "source": [
    "## Redefine the function in order to recompile"
   ]
  },
  {
   "cell_type": "code",
   "execution_count": 58,
   "metadata": {},
   "outputs": [],
   "source": [
    "@njit('float64[:](float64[:],float64[:],float64[:],int64)')\n",
    "def njit_est_null(x, y, xy, iteration = 10000):\n",
    "    n = x.shape[0]\n",
    "    null_dist = np.zeros(iteration)\n",
    "    \n",
    "    np.random.seed(42)\n",
    "    for i in range(iteration):\n",
    "        temp = np.random.permutation(xy)\n",
    "        temp_x, temp_y = temp[:n], temp[n:]\n",
    "        null_dist[i] = np.mean(temp_x) - np.mean(temp_y)\n",
    "        \n",
    "    return null_dist"
   ]
  },
  {
   "cell_type": "code",
   "execution_count": 59,
   "metadata": {},
   "outputs": [],
   "source": [
    "@njit\n",
    "def njit_est_null_lazy(x, y, xy, iteration = 10000):\n",
    "    n = x.shape[0]\n",
    "    null_dist = np.zeros(iteration)\n",
    "    \n",
    "    np.random.seed(42)\n",
    "    for i in range(iteration):\n",
    "        temp = np.random.permutation(xy)\n",
    "        temp_x, temp_y = temp[:n], temp[n:]\n",
    "        null_dist[i] = np.mean(temp_x) - np.mean(temp_y)\n",
    "        \n",
    "    return null_dist"
   ]
  },
  {
   "cell_type": "markdown",
   "metadata": {},
   "source": [
    "### Setting 6: $\\mu_1 = 0, \\mu_2 = 0.5$ , length = 100"
   ]
  },
  {
   "cell_type": "code",
   "execution_count": 60,
   "metadata": {},
   "outputs": [],
   "source": [
    "naive_time_6 = []\n",
    "np.random.seed(42)\n",
    "for i in range(10):\n",
    "    \n",
    "    t1 = time.time()\n",
    "    tmp_null = est_null(mu1 = 0, mu2 = 0.5, n=100)\n",
    "    compute_pvalue(mu1 = 0, mu2 = 0.5, n = 100, null_dist = tmp_null,iteration = 1)\n",
    "    t2 = time.time()\n",
    "    \n",
    "    naive_time_6.append(t2-t1)\n"
   ]
  },
  {
   "cell_type": "code",
   "execution_count": 61,
   "metadata": {},
   "outputs": [],
   "source": [
    "njit_time_6 = []\n",
    "np.random.seed(42)\n",
    "for i in range(10):\n",
    "    t1 = time.time()\n",
    "    x = np.random.normal(loc=0, size = 100)\n",
    "    y = np.random.normal(loc=0.5, size = 100)\n",
    "    xy = np.r_[x,y]\n",
    "    tmp_null = njit_est_null(x,y,xy, 10000)\n",
    "    test_pvalue1 = compute_pvalue(mu1 = 0, mu2 = 0.5, n = 100, null_dist = tmp_null,iteration = 1)\n",
    "    t2 = time.time()\n",
    "    \n",
    "    njit_time_6.append(t2-t1)"
   ]
  },
  {
   "cell_type": "code",
   "execution_count": 62,
   "metadata": {},
   "outputs": [],
   "source": [
    "njit_lazy_time_6 = []\n",
    "np.random.seed(42)\n",
    "for i in range(10):\n",
    "    t1 = time.time()\n",
    "    x = np.random.normal(loc=0, size = 100)\n",
    "    y = np.random.normal(loc=0.5, size = 100)\n",
    "    xy = np.r_[x,y]\n",
    "    tmp_null = njit_est_null_lazy(x,y,xy, 10000)\n",
    "    test_pvalue1 = compute_pvalue(mu1 = 0, mu2 = 0.5, n = 100, null_dist = tmp_null,iteration = 1)\n",
    "    t2 = time.time()\n",
    "    \n",
    "    njit_lazy_time_6.append(t2-t1)"
   ]
  },
  {
   "cell_type": "code",
   "execution_count": 63,
   "metadata": {},
   "outputs": [],
   "source": [
    "mlx_perm_time_6 = []\n",
    "np.random.seed(42)\n",
    "for i in range(10):\n",
    "    t1 = time.time()\n",
    "    x = np.random.normal(loc = 0, size = 100)\n",
    "    y = np.random.normal(loc = 0.5, size = 100)\n",
    "    test_pvalue2 = permutation_test(x, y, method = \"approximate\", num_rounds = 10000, seed = 42)\n",
    "    t2 = time.time()\n",
    "    \n",
    "    mlx_perm_time_6.append(t2-t1)"
   ]
  },
  {
   "cell_type": "code",
   "execution_count": 64,
   "metadata": {},
   "outputs": [
    {
     "name": "stdout",
     "output_type": "stream",
     "text": [
      "[0.]\n",
      "0.0\n"
     ]
    }
   ],
   "source": [
    "print(test_pvalue1)\n",
    "print(test_pvalue2)"
   ]
  },
  {
   "cell_type": "code",
   "execution_count": 65,
   "metadata": {},
   "outputs": [
    {
     "name": "stdout",
     "output_type": "stream",
     "text": [
      "Setting 6: mu_1 = 0, mu_2 = 0.5, length = 100\n",
      "naive time: 0.1447436571121216\n",
      "naive std: 0.00185313947152497\n",
      "njit time (with compilation): 0.015598773956298828\n",
      "njit time (after compilation): 0.015529712041219076\n",
      "njit std: 5.245941872956883e-05\n",
      "njit time (with lazy compilation): 0.13519668579101562\n",
      "njit time (after lazy compilation): 0.01512553956773546\n",
      "njit lazy std: 2.1717749566199402e-05\n",
      "mlxtend package time: 0.1379715919494629\n",
      "mlxtend std: 0.00044983479419464774\n"
     ]
    }
   ],
   "source": [
    "print(\"Setting 6: mu_1 = 0, mu_2 = 0.5, length = 100\")\n",
    "print(\"naive time: \" + str(np.mean(naive_time_6)))\n",
    "print(\"naive std: \" + str(np.std(naive_time_6) / np.sqrt(10)))\n",
    "print(\"njit time (with compilation): \"+ str(njit_time_6[0]))\n",
    "print(\"njit time (after compilation): \"+ str(np.mean(njit_time_6[1:])))\n",
    "print(\"njit std: \"+str(np.std(njit_time_6[1:])/np.sqrt(9)))\n",
    "print(\"njit time (with lazy compilation): \"+ str(njit_lazy_time_6[0]))\n",
    "print(\"njit time (after lazy compilation): \"+ str(np.mean(njit_lazy_time_6[1:])))\n",
    "print(\"njit lazy std: \"+str(np.std(njit_lazy_time_6[1:])/np.sqrt(9)))\n",
    "print(\"mlxtend package time: \" + str(np.mean(mlx_perm_time_6)))\n",
    "print(\"mlxtend std: \" + str(np.std(mlx_perm_time_6)/np.sqrt(10)))"
   ]
  },
  {
   "cell_type": "code",
   "execution_count": 66,
   "metadata": {},
   "outputs": [],
   "source": [
    "np.random.seed(42)\n",
    "x = np.random.normal(loc=0, size = 100)\n",
    "y = np.random.normal(loc=0.5, size = 100)\n",
    "xy = np.r_[x,y]\n",
    "null_dist_6 = njit_est_null(x,y,xy, 10000)"
   ]
  },
  {
   "cell_type": "code",
   "execution_count": 67,
   "metadata": {},
   "outputs": [],
   "source": [
    "pvalue_vec6=compute_pvalue(mu1 = 0, mu2 = 0.5, n =100, null_dist = null_dist_6)\n",
    "size_power6= np.mean(pvalue_vec6 < 0.05) #size"
   ]
  },
  {
   "cell_type": "code",
   "execution_count": 68,
   "metadata": {},
   "outputs": [
    {
     "data": {
      "text/plain": [
       "0.9461"
      ]
     },
     "execution_count": 68,
     "metadata": {},
     "output_type": "execute_result"
    }
   ],
   "source": [
    "size_power6"
   ]
  },
  {
   "cell_type": "code",
   "execution_count": 69,
   "metadata": {},
   "outputs": [
    {
     "name": "stdout",
     "output_type": "stream",
     "text": [
      "0.0778\n",
      "0.2889\n",
      "0.7248\n",
      "0.0726\n",
      "0.4638\n",
      "0.9461\n"
     ]
    }
   ],
   "source": [
    "print(size_power1)\n",
    "print(size_power2)\n",
    "print(size_power3)\n",
    "print(size_power4)\n",
    "print(size_power5)\n",
    "print(size_power6)"
   ]
  }
 ],
 "metadata": {
  "kernelspec": {
   "display_name": "numba",
   "language": "python",
   "name": "numba"
  },
  "language_info": {
   "codemirror_mode": {
    "name": "ipython",
    "version": 3
   },
   "file_extension": ".py",
   "mimetype": "text/x-python",
   "name": "python",
   "nbconvert_exporter": "python",
   "pygments_lexer": "ipython3",
   "version": "3.7.7"
  }
 },
 "nbformat": 4,
 "nbformat_minor": 2
}
