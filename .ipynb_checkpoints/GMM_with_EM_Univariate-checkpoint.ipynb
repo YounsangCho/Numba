{
 "cells": [
  {
   "cell_type": "code",
   "execution_count": 1,
   "metadata": {},
   "outputs": [],
   "source": [
    "import numpy as np\n",
    "from numba import njit, float64, int64\n",
    "import time"
   ]
  },
  {
   "cell_type": "markdown",
   "metadata": {},
   "source": [
    "## Naive Python code (Univariate Normal)"
   ]
  },
  {
   "cell_type": "code",
   "execution_count": 2,
   "metadata": {},
   "outputs": [],
   "source": [
    "def normal_ll(X, mu, sigma):\n",
    "    return np.exp(-(X-mu)**2 / (2 * sigma)) / np.sqrt(2*np.pi*sigma)"
   ]
  },
  {
   "cell_type": "code",
   "execution_count": 3,
   "metadata": {},
   "outputs": [],
   "source": [
    "def GMM_EM(X, mu, sigma, max_iter, tau, q, tol = 1e-15):\n",
    "    K = len(mu)\n",
    "    n = len(X)\n",
    "    \n",
    "    for iteration in range(max_iter):\n",
    "        for k in range(K):\n",
    "            ll = normal_ll(X, mu[k], sigma[k])\n",
    "            q[:, k ] = tau[k] * ll\n",
    "        \n",
    "        for i in range(n):\n",
    "            q[i, :] /= np.sum(q[i, :])\n",
    "        \n",
    "        mu_before = mu\n",
    "        sigma_before = sigma\n",
    "        tau_before = tau\n",
    "        \n",
    "        for k in range(K):\n",
    "            q_k = np.sum(q[:, k])\n",
    "            mu[k] = np.sum(q[:, k] * X) / q_k\n",
    "            sigma[k] = np.sum(q[:, k] * (X - mu[k])**2) / q_k\n",
    "            tau[k]  = q_k / n\n",
    "            \n",
    "        mu_diff = np.max(np.abs(mu - mu_before))\n",
    "        sigma_diff = np.max(np.abs(sigma-sigma_before))\n",
    "        tau_diff = np.max(np.abs(tau - tau_before))\n",
    "        \n",
    "        diff = np.max(np.array([np.abs(mu_diff), np.abs(sigma_diff), np.abs(tau_diff)]))\n",
    "        \n",
    "        if ( (iteration > 1) & (diff < tol)): break\n",
    "        \n",
    "    return mu, sigma, tau, iteration"
   ]
  },
  {
   "cell_type": "markdown",
   "metadata": {},
   "source": [
    "## Numba Python code (Univariate Normal)"
   ]
  },
  {
   "cell_type": "code",
   "execution_count": 4,
   "metadata": {},
   "outputs": [],
   "source": [
    "@njit('float64[:](float64[:],float64,float64)')\n",
    "def normal_ll(X, mu, sigma):\n",
    "    return np.exp(-(X-mu)**2 / (2 * sigma)) / np.sqrt(2*np.pi*sigma)"
   ]
  },
  {
   "cell_type": "code",
   "execution_count": 5,
   "metadata": {},
   "outputs": [],
   "source": [
    "@njit('float64(float64[:])')\n",
    "def nb_sum(x):\n",
    "    res = 0.0\n",
    "    for i in range(x.shape[0]):\n",
    "        res += x[i]\n",
    "    return res"
   ]
  },
  {
   "cell_type": "code",
   "execution_count": 6,
   "metadata": {},
   "outputs": [],
   "source": [
    "from numba import types"
   ]
  },
  {
   "cell_type": "code",
   "execution_count": 7,
   "metadata": {
    "scrolled": true
   },
   "outputs": [],
   "source": [
    "r_sig = types.Tuple([float64[:],float64[:],float64[:],int64])\n",
    "sig = r_sig(float64[:],float64[:],float64[:],int64,float64[:],float64[:,:],float64)"
   ]
  },
  {
   "cell_type": "code",
   "execution_count": 8,
   "metadata": {},
   "outputs": [],
   "source": [
    "@njit(sig)\n",
    "def GMM_EM_njit(X, mu, sigma, max_iter, tau, q, tol = 1e-15):\n",
    "    K = len(mu)\n",
    "    n = len(X)\n",
    "    \n",
    "    for iteration in range(max_iter):\n",
    "        for k in range(K):\n",
    "            ll = normal_ll(X, mu[k], sigma[k])\n",
    "            q[:, k ] = tau[k] * ll\n",
    "        \n",
    "        for i in range(n):\n",
    "            q[i, :] /= nb_sum(q[i, :])\n",
    "        \n",
    "        mu_before = mu\n",
    "        sigma_before = sigma\n",
    "        tau_before = tau\n",
    "        \n",
    "        for k in range(K):\n",
    "            q_k = nb_sum(q[:, k])\n",
    "            mu[k] = nb_sum(q[:, k] * X) / q_k\n",
    "            sigma[k] = nb_sum(q[:, k] * (X - mu[k])**2) / q_k\n",
    "            tau[k]  = q_k / n\n",
    "            \n",
    "        mu_diff = np.max(np.abs(mu - mu_before))\n",
    "        sigma_diff = np.max(np.abs(sigma-sigma_before))\n",
    "        tau_diff = np.max(np.abs(tau - tau_before))\n",
    "        \n",
    "        diff = np.max(np.array([np.abs(mu_diff), np.abs(sigma_diff), np.abs(tau_diff)]))\n",
    "        \n",
    "        if ( (iteration > 1) & (diff < tol)): break\n",
    "        \n",
    "    return mu, sigma, tau, iteration"
   ]
  },
  {
   "cell_type": "code",
   "execution_count": 9,
   "metadata": {},
   "outputs": [],
   "source": [
    "np.random.seed(42)\n",
    "time_list_naive = []\n",
    "\n",
    "for i in range(10):\n",
    "    \n",
    "    X1 = np.random.normal(loc = 20., scale = 3.1, size= 200) \n",
    "    X2 = np.random.normal(loc = 3., scale = 2.3, size= 200) \n",
    "    X3 = np.random.normal(loc = -5., scale = 1.4, size= 200) \n",
    "    X_tot = np.hstack((X1,X2,X3)).flatten()\n",
    "    \n",
    "    mu = np.array([15.,6.,-7.])\n",
    "    tau = np.array([1/3,1/3,1/3])\n",
    "    sigma = np.array([8.,3.5,1.3])\n",
    "    q = np.zeros((len(X_tot),3))\n",
    "    \n",
    "    t1 = time.time()\n",
    "    GMM_EM(X_tot, mu, sigma, 10000, tau, q)\n",
    "    t2 = time.time()\n",
    "    \n",
    "    time_list_naive.append(t2-t1)"
   ]
  },
  {
   "cell_type": "code",
   "execution_count": 10,
   "metadata": {},
   "outputs": [],
   "source": [
    "np.random.seed(42)\n",
    "time_list_njit = []\n",
    "\n",
    "for i in range(10):\n",
    "    \n",
    "    X1 = np.random.normal(loc = 20., scale = 3.1, size= 200) \n",
    "    X2 = np.random.normal(loc = 3., scale = 2.3, size= 200) \n",
    "    X3 = np.random.normal(loc = -5., scale = 1.4, size= 200) \n",
    "    X_tot = np.hstack((X1,X2,X3)).flatten()\n",
    "    \n",
    "    mu = np.array([15.,6.,-7.])\n",
    "    tau = np.array([1/3,1/3,1/3])\n",
    "    sigma = np.array([8.,3.5,1.3])\n",
    "    q = np.zeros((len(X_tot),3))\n",
    "    \n",
    "    t1 = time.time()\n",
    "    GMM_EM_njit(X_tot, mu, sigma, 10000, tau, q,1e-15)\n",
    "    t2 = time.time()\n",
    "    \n",
    "    time_list_njit.append(t2-t1)"
   ]
  },
  {
   "cell_type": "code",
   "execution_count": 11,
   "metadata": {
    "scrolled": true
   },
   "outputs": [
    {
     "name": "stdout",
     "output_type": "stream",
     "text": [
      "0.02603487968444824\n",
      "0.0024318695068359375\n",
      "0.0007756551106770834\n"
     ]
    }
   ],
   "source": [
    "print(np.mean(time_list_naive))\n",
    "print(time_list_njit[0])\n",
    "print(np.mean(time_list_njit[1:]))"
   ]
  }
 ],
 "metadata": {
  "kernelspec": {
   "display_name": "numba",
   "language": "python",
   "name": "numba"
  },
  "language_info": {
   "codemirror_mode": {
    "name": "ipython",
    "version": 3
   },
   "file_extension": ".py",
   "mimetype": "text/x-python",
   "name": "python",
   "nbconvert_exporter": "python",
   "pygments_lexer": "ipython3",
   "version": "3.7.7"
  }
 },
 "nbformat": 4,
 "nbformat_minor": 2
}
