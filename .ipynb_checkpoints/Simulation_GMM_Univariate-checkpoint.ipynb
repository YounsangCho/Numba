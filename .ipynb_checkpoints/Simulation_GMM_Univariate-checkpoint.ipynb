{
 "cells": [
  {
   "cell_type": "code",
   "execution_count": 1,
   "metadata": {},
   "outputs": [],
   "source": [
    "import numpy as np\n",
    "from numba import njit, float64, int64, types\n",
    "from sklearn.mixture import GaussianMixture as GMM\n",
    "from GMM_with_EM_Univariate import GMM_EM\n",
    "import time"
   ]
  },
  {
   "cell_type": "markdown",
   "metadata": {},
   "source": [
    "## GMM_EM_njit (eager compilation)"
   ]
  },
  {
   "cell_type": "code",
   "execution_count": 2,
   "metadata": {},
   "outputs": [],
   "source": [
    "@njit('float64[:](float64[:],float64,float64)')\n",
    "def normal_ll_njit(X, mu, sigma):\n",
    "    return np.exp(-(X-mu)**2 / (2 * sigma)) / np.sqrt(2*np.pi*sigma)\n",
    "\n",
    "\n",
    "\n",
    "@njit('float64(float64[:])')\n",
    "def nb_sum(x):\n",
    "    res = 0.0\n",
    "    for i in range(x.shape[0]):\n",
    "        res += x[i]\n",
    "    return res\n",
    "\n",
    "\n",
    "\n",
    "r_sig = types.Tuple([float64[:],float64[:],float64[:],int64])\n",
    "sig = r_sig(float64[:],float64[:],float64[:],int64,float64[:],float64[:,:],float64)\n",
    "\n",
    "\n",
    "@njit(sig)\n",
    "def GMM_EM_njit(X, mu, sigma, max_iter, tau, q, tol = 1e-15):\n",
    "    K = len(mu)\n",
    "    n = len(X)\n",
    "    \n",
    "    for iteration in range(max_iter):\n",
    "        for k in range(K):\n",
    "            ll = normal_ll_njit(X, mu[k], sigma[k])\n",
    "            q[:, k ] = tau[k] * ll\n",
    "        \n",
    "        for i in range(n):\n",
    "            q[i, :] /= nb_sum(q[i, :])\n",
    "        \n",
    "        mu_before = mu\n",
    "        sigma_before = sigma\n",
    "        tau_before = tau\n",
    "        \n",
    "        for k in range(K):\n",
    "            q_k = nb_sum(q[:, k])\n",
    "            mu[k] = nb_sum(q[:, k] * X) / q_k\n",
    "            sigma[k] = nb_sum(q[:, k] * (X - mu[k])**2) / q_k\n",
    "            tau[k]  = q_k / n\n",
    "            \n",
    "        mu_diff = np.max(np.abs(mu - mu_before))\n",
    "        sigma_diff = np.max(np.abs(sigma-sigma_before))\n",
    "        tau_diff = np.max(np.abs(tau - tau_before))\n",
    "        \n",
    "        diff = np.max(np.array([np.abs(mu_diff), np.abs(sigma_diff), np.abs(tau_diff)]))\n",
    "        \n",
    "        if ( (iteration > 1) & (diff < tol)): break\n",
    "        \n",
    "    return mu, sigma, tau, iteration\n"
   ]
  },
  {
   "cell_type": "markdown",
   "metadata": {},
   "source": [
    "## GMM_EM_njit (lazy compilation)"
   ]
  },
  {
   "cell_type": "code",
   "execution_count": 3,
   "metadata": {},
   "outputs": [],
   "source": [
    "@njit\n",
    "def normal_ll_njit_lazy(X, mu, sigma):\n",
    "    return np.exp(-(X-mu)**2 / (2 * sigma)) / np.sqrt(2*np.pi*sigma)\n",
    "\n",
    "\n",
    "\n",
    "@njit\n",
    "def nb_sum_lazy(x):\n",
    "    res = 0.0\n",
    "    for i in range(x.shape[0]):\n",
    "        res += x[i]\n",
    "    return res\n",
    "\n",
    "@njit\n",
    "def GMM_EM_njit_lazy(X, mu, sigma, max_iter, tau, q, tol = 1e-15):\n",
    "    K = len(mu)\n",
    "    n = len(X)\n",
    "    \n",
    "    for iteration in range(max_iter):\n",
    "        for k in range(K):\n",
    "            ll = normal_ll_njit_lazy(X, mu[k], sigma[k])\n",
    "            q[:, k ] = tau[k] * ll\n",
    "        \n",
    "        for i in range(n):\n",
    "            q[i, :] /= nb_sum_lazy(q[i, :])\n",
    "        \n",
    "        mu_before = mu\n",
    "        sigma_before = sigma\n",
    "        tau_before = tau\n",
    "        \n",
    "        for k in range(K):\n",
    "            q_k = nb_sum_lazy(q[:, k])\n",
    "            mu[k] = nb_sum_lazy(q[:, k] * X) / q_k\n",
    "            sigma[k] = nb_sum_lazy(q[:, k] * (X - mu[k])**2) / q_k\n",
    "            tau[k]  = q_k / n\n",
    "            \n",
    "        mu_diff = np.max(np.abs(mu - mu_before))\n",
    "        sigma_diff = np.max(np.abs(sigma-sigma_before))\n",
    "        tau_diff = np.max(np.abs(tau - tau_before))\n",
    "        \n",
    "        diff = np.max(np.array([np.abs(mu_diff), np.abs(sigma_diff), np.abs(tau_diff)]))\n",
    "        \n",
    "        if ( (iteration > 1) & (diff < tol)): break\n",
    "        \n",
    "    return mu, sigma, tau, iteration\n"
   ]
  },
  {
   "cell_type": "markdown",
   "metadata": {},
   "source": [
    "## Setting 1"
   ]
  },
  {
   "cell_type": "markdown",
   "metadata": {},
   "source": [
    "### Seed: Fixed, Size = 600, N_comp = 3"
   ]
  },
  {
   "cell_type": "code",
   "execution_count": 4,
   "metadata": {},
   "outputs": [],
   "source": [
    "np.random.seed(42)\n",
    "time_list_naive = []\n",
    "\n",
    "for i in range(10):\n",
    "    \n",
    "    X1 = np.random.normal(loc = 20., scale = 3.1, size= 200) \n",
    "    X2 = np.random.normal(loc = 3., scale = 2.3, size= 200) \n",
    "    X3 = np.random.normal(loc = -5., scale = 1.4, size= 200) \n",
    "    X_tot = np.hstack((X1,X2,X3)).flatten()\n",
    "    \n",
    "    mu = np.array([15.,6.,-7.])\n",
    "    tau = np.array([1/3,1/3,1/3])\n",
    "    sigma = np.array([8.,3.5,1.3])\n",
    "    q = np.zeros((len(X_tot),3))\n",
    "    \n",
    "    t1 = time.time()\n",
    "    GMM_EM(X_tot, mu, sigma, 10000, tau, q)\n",
    "    t2 = time.time()\n",
    "    \n",
    "    time_list_naive.append(t2-t1)"
   ]
  },
  {
   "cell_type": "code",
   "execution_count": 5,
   "metadata": {},
   "outputs": [],
   "source": [
    "np.random.seed(42)\n",
    "time_list_njit = []\n",
    "\n",
    "for i in range(10):\n",
    "    \n",
    "    X1 = np.random.normal(loc = 20., scale = 3.1, size= 200) \n",
    "    X2 = np.random.normal(loc = 3., scale = 2.3, size= 200) \n",
    "    X3 = np.random.normal(loc = -5., scale = 1.4, size= 200) \n",
    "    X_tot = np.hstack((X1,X2,X3)).flatten()\n",
    "    \n",
    "    mu = np.array([15.,6.,-7.])\n",
    "    tau = np.array([1/3,1/3,1/3])\n",
    "    sigma = np.array([8.,3.5,1.3])\n",
    "    q = np.zeros((len(X_tot),3))\n",
    "    \n",
    "    t1 = time.time()\n",
    "    GMM_EM_njit(X_tot, mu, sigma, 10000, tau, q, 1e-15)\n",
    "    t2 = time.time()\n",
    "    \n",
    "    time_list_njit.append(t2-t1)"
   ]
  },
  {
   "cell_type": "code",
   "execution_count": 6,
   "metadata": {},
   "outputs": [],
   "source": [
    "np.random.seed(42)\n",
    "time_list_njit_lazy = []\n",
    "\n",
    "for i in range(10):\n",
    "    \n",
    "    X1 = np.random.normal(loc = 20., scale = 3.1, size= 200) \n",
    "    X2 = np.random.normal(loc = 3., scale = 2.3, size= 200) \n",
    "    X3 = np.random.normal(loc = -5., scale = 1.4, size= 200) \n",
    "    X_tot = np.hstack((X1,X2,X3)).flatten()\n",
    "    \n",
    "    mu = np.array([15.,6.,-7.])\n",
    "    tau = np.array([1/3,1/3,1/3])\n",
    "    sigma = np.array([8.,3.5,1.3])\n",
    "    q = np.zeros((len(X_tot),3))\n",
    "    \n",
    "    t1 = time.time()\n",
    "    GMM_EM_njit_lazy(X_tot, mu, sigma, 10000, tau, q, 1e-15)\n",
    "    t2 = time.time()\n",
    "    \n",
    "    time_list_njit_lazy.append(t2-t1)"
   ]
  },
  {
   "cell_type": "code",
   "execution_count": 7,
   "metadata": {},
   "outputs": [],
   "source": [
    "np.random.seed(42)\n",
    "time_list_sklearn = []\n",
    "\n",
    "for i in range(10):\n",
    "    \n",
    "    X1 = np.random.normal(loc = 20., scale = 3.1, size= 200) \n",
    "    X2 = np.random.normal(loc = 3., scale = 2.3, size= 200) \n",
    "    X3 = np.random.normal(loc = -5., scale = 1.4, size= 200) \n",
    "    X_tot = np.hstack((X1,X2,X3)).flatten()\n",
    "    \n",
    "    \n",
    "    t1 = time.time()\n",
    "    gmm = GMM(n_components= 3, random_state= 42, max_iter=10000,\n",
    "             means_init=np.array([15.,6.,-7.]).reshape(3,1), precisions_init=np.array([1/8,1/3.5,1/1.3]).reshape(3,1,1) )\n",
    "    gmm.fit(X_tot.reshape(-1,1))\n",
    "    t2 = time.time()\n",
    "    \n",
    "    time_list_sklearn.append(t2-t1)"
   ]
  },
  {
   "cell_type": "code",
   "execution_count": 8,
   "metadata": {},
   "outputs": [
    {
     "name": "stdout",
     "output_type": "stream",
     "text": [
      "Setting 1\n",
      "naive time: 0.010461115837097168\n",
      "njit time (with compilation): 0.00034427642822265625\n",
      "njit time (after compilation): 0.00015086597866482206\n",
      "njit time (with lazy compilation): 0.8721120357513428\n",
      "njit time (after lazy compilation): 0.00015147527058919272\n",
      "sklearn time: 0.003230738639831543\n"
     ]
    }
   ],
   "source": [
    "print(\"Setting 1\")\n",
    "print(\"naive time: \" +str(np.mean(time_list_naive)))\n",
    "print(\"njit time (with compilation): \"+ str(time_list_njit[0]))\n",
    "print(\"njit time (after compilation): \" + str(np.mean(time_list_njit[1:])))\n",
    "print(\"njit time (with lazy compilation): \" + str(time_list_njit_lazy[0]))\n",
    "print(\"njit time (after lazy compilation): \" + str(np.mean(time_list_njit_lazy[1:])))\n",
    "print(\"sklearn time: \" + str(np.mean(time_list_sklearn)))"
   ]
  },
  {
   "cell_type": "code",
   "execution_count": 9,
   "metadata": {},
   "outputs": [
    {
     "name": "stdout",
     "output_type": "stream",
     "text": [
      "naive std: 0.0002250448298965338\n",
      "njit std: 3.489931043937384e-07\n",
      "lazy njit std: 5.271633132863681e-07\n",
      "sklearn std: 9.815659052716559e-05\n"
     ]
    }
   ],
   "source": [
    "print(\"naive std: \" + str(np.std(time_list_naive)/np.sqrt(10)))\n",
    "print(\"njit std: \" + str(np.std(time_list_njit[1:])/np.sqrt(9)))\n",
    "print(\"lazy njit std: \" + str(np.std(time_list_njit_lazy[1:])/np.sqrt(9)))\n",
    "print(\"sklearn std: \"+ str(np.std(time_list_sklearn)/np.sqrt(10)))"
   ]
  },
  {
   "cell_type": "markdown",
   "metadata": {},
   "source": [
    "### Redefine the function for just-in-time compilation"
   ]
  },
  {
   "cell_type": "markdown",
   "metadata": {},
   "source": [
    "#### njit eager compilation"
   ]
  },
  {
   "cell_type": "code",
   "execution_count": 10,
   "metadata": {},
   "outputs": [],
   "source": [
    "@njit('float64[:](float64[:],float64,float64)')\n",
    "def normal_ll_njit(X, mu, sigma):\n",
    "    return np.exp(-(X-mu)**2 / (2 * sigma)) / np.sqrt(2*np.pi*sigma)\n",
    "\n",
    "\n",
    "\n",
    "@njit('float64(float64[:])')\n",
    "def nb_sum(x):\n",
    "    res = 0.0\n",
    "    for i in range(x.shape[0]):\n",
    "        res += x[i]\n",
    "    return res\n",
    "\n",
    "\n",
    "\n",
    "r_sig = types.Tuple([float64[:],float64[:],float64[:],int64])\n",
    "sig = r_sig(float64[:],float64[:],float64[:],int64,float64[:],float64[:,:],float64)\n",
    "\n",
    "\n",
    "@njit(sig)\n",
    "def GMM_EM_njit(X, mu, sigma, max_iter, tau, q, tol = 1e-15):\n",
    "    K = len(mu)\n",
    "    n = len(X)\n",
    "    \n",
    "    for iteration in range(max_iter):\n",
    "        for k in range(K):\n",
    "            ll = normal_ll_njit(X, mu[k], sigma[k])\n",
    "            q[:, k ] = tau[k] * ll\n",
    "        \n",
    "        for i in range(n):\n",
    "            q[i, :] /= nb_sum(q[i, :])\n",
    "        \n",
    "        mu_before = mu\n",
    "        sigma_before = sigma\n",
    "        tau_before = tau\n",
    "        \n",
    "        for k in range(K):\n",
    "            q_k = nb_sum(q[:, k])\n",
    "            mu[k] = nb_sum(q[:, k] * X) / q_k\n",
    "            sigma[k] = nb_sum(q[:, k] * (X - mu[k])**2) / q_k\n",
    "            tau[k]  = q_k / n\n",
    "            \n",
    "        mu_diff = np.max(np.abs(mu - mu_before))\n",
    "        sigma_diff = np.max(np.abs(sigma-sigma_before))\n",
    "        tau_diff = np.max(np.abs(tau - tau_before))\n",
    "        \n",
    "        diff = np.max(np.array([np.abs(mu_diff), np.abs(sigma_diff), np.abs(tau_diff)]))\n",
    "        \n",
    "        if ( (iteration > 1) & (diff < tol)): break\n",
    "        \n",
    "    return mu, sigma, tau, iteration\n"
   ]
  },
  {
   "cell_type": "markdown",
   "metadata": {},
   "source": [
    "#### njit lazy compilation"
   ]
  },
  {
   "cell_type": "code",
   "execution_count": 11,
   "metadata": {},
   "outputs": [],
   "source": [
    "@njit\n",
    "def normal_ll_njit_lazy(X, mu, sigma):\n",
    "    return np.exp(-(X-mu)**2 / (2 * sigma)) / np.sqrt(2*np.pi*sigma)\n",
    "\n",
    "\n",
    "\n",
    "@njit\n",
    "def nb_sum_lazy(x):\n",
    "    res = 0.0\n",
    "    for i in range(x.shape[0]):\n",
    "        res += x[i]\n",
    "    return res\n",
    "\n",
    "@njit\n",
    "def GMM_EM_njit_lazy(X, mu, sigma, max_iter, tau, q, tol = 1e-15):\n",
    "    K = len(mu)\n",
    "    n = len(X)\n",
    "    \n",
    "    for iteration in range(max_iter):\n",
    "        for k in range(K):\n",
    "            ll = normal_ll_njit_lazy(X, mu[k], sigma[k])\n",
    "            q[:, k ] = tau[k] * ll\n",
    "        \n",
    "        for i in range(n):\n",
    "            q[i, :] /= nb_sum_lazy(q[i, :])\n",
    "        \n",
    "        mu_before = mu\n",
    "        sigma_before = sigma\n",
    "        tau_before = tau\n",
    "        \n",
    "        for k in range(K):\n",
    "            q_k = nb_sum_lazy(q[:, k])\n",
    "            mu[k] = nb_sum_lazy(q[:, k] * X) / q_k\n",
    "            sigma[k] = nb_sum_lazy(q[:, k] * (X - mu[k])**2) / q_k\n",
    "            tau[k]  = q_k / n\n",
    "            \n",
    "        mu_diff = np.max(np.abs(mu - mu_before))\n",
    "        sigma_diff = np.max(np.abs(sigma-sigma_before))\n",
    "        tau_diff = np.max(np.abs(tau - tau_before))\n",
    "        \n",
    "        diff = np.max(np.array([np.abs(mu_diff), np.abs(sigma_diff), np.abs(tau_diff)]))\n",
    "        \n",
    "        if ( (iteration > 1) & (diff < tol)): break\n",
    "        \n",
    "    return mu, sigma, tau, iteration\n"
   ]
  },
  {
   "cell_type": "markdown",
   "metadata": {},
   "source": [
    "## Setting 2"
   ]
  },
  {
   "cell_type": "markdown",
   "metadata": {},
   "source": [
    "### Seed: Changed, Size: 600, N_comp: 3"
   ]
  },
  {
   "cell_type": "code",
   "execution_count": 12,
   "metadata": {},
   "outputs": [],
   "source": [
    "time_list_naive_seed = []\n",
    "\n",
    "for j in range(10):\n",
    "    np.random.seed(42+j)\n",
    "    for i in range(10):\n",
    "        \n",
    "        X1 = np.random.normal(loc = 20., scale = 3.1, size= 200) \n",
    "        X2 = np.random.normal(loc = 3., scale = 2.3, size= 200) \n",
    "        X3 = np.random.normal(loc = -5., scale = 1.4, size= 200) \n",
    "        X_tot = np.hstack((X1,X2,X3)).flatten()\n",
    "        \n",
    "        mu = np.array([15.,6.,-7.])\n",
    "        tau = np.array([1/3,1/3,1/3])\n",
    "        sigma = np.array([8.,3.5,1.3])\n",
    "        q = np.zeros((len(X_tot),3))\n",
    "        \n",
    "        t1 = time.time()\n",
    "        GMM_EM(X_tot, mu, sigma, 10000, tau, q)\n",
    "        t2 = time.time()\n",
    "        \n",
    "        time_list_naive_seed.append(t2-t1)"
   ]
  },
  {
   "cell_type": "code",
   "execution_count": 13,
   "metadata": {},
   "outputs": [],
   "source": [
    "time_list_njit_seed = []\n",
    "\n",
    "for j in range(10):\n",
    "    np.random.seed(42+j)\n",
    "    for i in range(10):\n",
    "        \n",
    "        X1 = np.random.normal(loc = 20., scale = 3.1, size= 200) \n",
    "        X2 = np.random.normal(loc = 3., scale = 2.3, size= 200) \n",
    "        X3 = np.random.normal(loc = -5., scale = 1.4, size= 200) \n",
    "        X_tot = np.hstack((X1,X2,X3)).flatten()\n",
    "        \n",
    "        mu = np.array([15.,6.,-7.])\n",
    "        tau = np.array([1/3,1/3,1/3])\n",
    "        sigma = np.array([8.,3.5,1.3])\n",
    "        q = np.zeros((len(X_tot),3))\n",
    "        \n",
    "        t1 = time.time()\n",
    "        GMM_EM_njit(X_tot, mu, sigma, 10000, tau, q,1e-15)\n",
    "        t2 = time.time()\n",
    "        \n",
    "        time_list_njit_seed.append(t2-t1)"
   ]
  },
  {
   "cell_type": "code",
   "execution_count": 14,
   "metadata": {},
   "outputs": [],
   "source": [
    "time_list_njit_lazy_seed = []\n",
    "\n",
    "for j in range(10):\n",
    "    np.random.seed(42+j)\n",
    "    for i in range(10):\n",
    "        \n",
    "        X1 = np.random.normal(loc = 20., scale = 3.1, size= 200) \n",
    "        X2 = np.random.normal(loc = 3., scale = 2.3, size= 200) \n",
    "        X3 = np.random.normal(loc = -5., scale = 1.4, size= 200) \n",
    "        X_tot = np.hstack((X1,X2,X3)).flatten()\n",
    "        \n",
    "        mu = np.array([15.,6.,-7.])\n",
    "        tau = np.array([1/3,1/3,1/3])\n",
    "        sigma = np.array([8.,3.5,1.3])\n",
    "        q = np.zeros((len(X_tot),3))\n",
    "        \n",
    "        t1 = time.time()\n",
    "        GMM_EM_njit_lazy(X_tot, mu, sigma, 10000, tau, q,1e-15)\n",
    "        t2 = time.time()\n",
    "        \n",
    "        time_list_njit_lazy_seed.append(t2-t1)"
   ]
  },
  {
   "cell_type": "code",
   "execution_count": 15,
   "metadata": {},
   "outputs": [],
   "source": [
    "time_list_sklearn_seed = []\n",
    "for j in range(10):\n",
    "    np.random.seed(42+j)\n",
    "    for i in range(10):\n",
    "        \n",
    "        X1 = np.random.normal(loc = 20., scale = 3.1, size= 200) \n",
    "        X2 = np.random.normal(loc = 3., scale = 2.3, size= 200) \n",
    "        X3 = np.random.normal(loc = -5., scale = 1.4, size= 200) \n",
    "        X_tot = np.hstack((X1,X2,X3)).flatten()\n",
    "        \n",
    "        t1 = time.time()\n",
    "        gmm = GMM(n_components= 3, random_state= 42, max_iter=10000,\n",
    "                 means_init=np.array([15.,6.,-7.]).reshape(3,1), precisions_init=np.array([1/8,1/3.5,1/1.3]).reshape(3,1,1))\n",
    "        gmm.fit(X_tot.reshape(-1,1))\n",
    "        t2 = time.time()\n",
    "        \n",
    "        time_list_sklearn_seed.append(t2-t1)"
   ]
  },
  {
   "cell_type": "code",
   "execution_count": 16,
   "metadata": {},
   "outputs": [
    {
     "name": "stdout",
     "output_type": "stream",
     "text": [
      "Setting 2\n",
      "naive time: 0.009991564750671388\n",
      "njit time (with compilation): 0.00016021728515625\n",
      "njit time (after compilation): 0.00015096712594080453\n",
      "njit time (with lazy compilation): 0.8580930233001709\n",
      "njit time (after lazy compilation): 0.00015044693995003747\n",
      "sklearn time: 0.003269178867340088\n"
     ]
    }
   ],
   "source": [
    "print(\"Setting 2\")\n",
    "print(\"naive time: \" +str(np.mean(time_list_naive_seed)))\n",
    "print(\"njit time (with compilation): \"+ str(time_list_njit_seed[0]))\n",
    "print(\"njit time (after compilation): \" + str(np.mean(time_list_njit_seed[1:])))\n",
    "print(\"njit time (with lazy compilation): \"+ str(time_list_njit_lazy_seed[0]))\n",
    "print(\"njit time (after lazy compilation): \" + str(np.mean(time_list_njit_lazy_seed[1:])))\n",
    "print(\"sklearn time: \" + str(np.mean(time_list_sklearn_seed)))"
   ]
  },
  {
   "cell_type": "code",
   "execution_count": 17,
   "metadata": {
    "scrolled": true
   },
   "outputs": [
    {
     "name": "stdout",
     "output_type": "stream",
     "text": [
      "naive std: 4.5160526682832954e-05\n",
      "njit std: 2.0125920826979688e-07\n",
      "njit lazy std: 3.7009029734962303e-07\n",
      "sklearn std: 4.134156481904358e-05\n"
     ]
    }
   ],
   "source": [
    "print(\"naive std: \" + str(np.std(time_list_naive_seed)/np.sqrt(100)))\n",
    "print(\"njit std: \" + str(np.std(time_list_njit_seed[1:])/np.sqrt(99)))\n",
    "print(\"njit lazy std: \" + str(np.std(time_list_njit_lazy_seed[1:])/np.sqrt(99)))\n",
    "print(\"sklearn std: \"+ str(np.std(time_list_sklearn_seed)/np.sqrt(100)))"
   ]
  },
  {
   "cell_type": "markdown",
   "metadata": {},
   "source": [
    "### Redefine the function for just-in-time compilation"
   ]
  },
  {
   "cell_type": "markdown",
   "metadata": {},
   "source": [
    "#### njit eager compilation"
   ]
  },
  {
   "cell_type": "code",
   "execution_count": 18,
   "metadata": {},
   "outputs": [],
   "source": [
    "@njit('float64[:](float64[:],float64,float64)')\n",
    "def normal_ll_njit(X, mu, sigma):\n",
    "    return np.exp(-(X-mu)**2 / (2 * sigma)) / np.sqrt(2*np.pi*sigma)\n",
    "\n",
    "\n",
    "\n",
    "@njit('float64(float64[:])')\n",
    "def nb_sum(x):\n",
    "    res = 0.0\n",
    "    for i in range(x.shape[0]):\n",
    "        res += x[i]\n",
    "    return res\n",
    "\n",
    "\n",
    "\n",
    "r_sig = types.Tuple([float64[:],float64[:],float64[:],int64])\n",
    "sig = r_sig(float64[:],float64[:],float64[:],int64,float64[:],float64[:,:],float64)\n",
    "\n",
    "\n",
    "@njit(sig)\n",
    "def GMM_EM_njit(X, mu, sigma, max_iter, tau, q, tol = 1e-15):\n",
    "    K = len(mu)\n",
    "    n = len(X)\n",
    "    \n",
    "    for iteration in range(max_iter):\n",
    "        for k in range(K):\n",
    "            ll = normal_ll_njit(X, mu[k], sigma[k])\n",
    "            q[:, k ] = tau[k] * ll\n",
    "        \n",
    "        for i in range(n):\n",
    "            q[i, :] /= nb_sum(q[i, :])\n",
    "        \n",
    "        mu_before = mu\n",
    "        sigma_before = sigma\n",
    "        tau_before = tau\n",
    "        \n",
    "        for k in range(K):\n",
    "            q_k = nb_sum(q[:, k])\n",
    "            mu[k] = nb_sum(q[:, k] * X) / q_k\n",
    "            sigma[k] = nb_sum(q[:, k] * (X - mu[k])**2) / q_k\n",
    "            tau[k]  = q_k / n\n",
    "            \n",
    "        mu_diff = np.max(np.abs(mu - mu_before))\n",
    "        sigma_diff = np.max(np.abs(sigma-sigma_before))\n",
    "        tau_diff = np.max(np.abs(tau - tau_before))\n",
    "        \n",
    "        diff = np.max(np.array([np.abs(mu_diff), np.abs(sigma_diff), np.abs(tau_diff)]))\n",
    "        \n",
    "        if ( (iteration > 1) & (diff < tol)): break\n",
    "        \n",
    "    return mu, sigma, tau, iteration\n"
   ]
  },
  {
   "cell_type": "markdown",
   "metadata": {},
   "source": [
    "#### njit lazy compilation"
   ]
  },
  {
   "cell_type": "code",
   "execution_count": 19,
   "metadata": {},
   "outputs": [],
   "source": [
    "@njit\n",
    "def normal_ll_njit_lazy(X, mu, sigma):\n",
    "    return np.exp(-(X-mu)**2 / (2 * sigma)) / np.sqrt(2*np.pi*sigma)\n",
    "\n",
    "\n",
    "\n",
    "@njit\n",
    "def nb_sum_lazy(x):\n",
    "    res = 0.0\n",
    "    for i in range(x.shape[0]):\n",
    "        res += x[i]\n",
    "    return res\n",
    "\n",
    "@njit\n",
    "def GMM_EM_njit_lazy(X, mu, sigma, max_iter, tau, q, tol = 1e-15):\n",
    "    K = len(mu)\n",
    "    n = len(X)\n",
    "    \n",
    "    for iteration in range(max_iter):\n",
    "        for k in range(K):\n",
    "            ll = normal_ll_njit_lazy(X, mu[k], sigma[k])\n",
    "            q[:, k ] = tau[k] * ll\n",
    "        \n",
    "        for i in range(n):\n",
    "            q[i, :] /= nb_sum_lazy(q[i, :])\n",
    "        \n",
    "        mu_before = mu\n",
    "        sigma_before = sigma\n",
    "        tau_before = tau\n",
    "        \n",
    "        for k in range(K):\n",
    "            q_k = nb_sum_lazy(q[:, k])\n",
    "            mu[k] = nb_sum_lazy(q[:, k] * X) / q_k\n",
    "            sigma[k] = nb_sum_lazy(q[:, k] * (X - mu[k])**2) / q_k\n",
    "            tau[k]  = q_k / n\n",
    "            \n",
    "        mu_diff = np.max(np.abs(mu - mu_before))\n",
    "        sigma_diff = np.max(np.abs(sigma-sigma_before))\n",
    "        tau_diff = np.max(np.abs(tau - tau_before))\n",
    "        \n",
    "        diff = np.max(np.array([np.abs(mu_diff), np.abs(sigma_diff), np.abs(tau_diff)]))\n",
    "        \n",
    "        if ( (iteration > 1) & (diff < tol)): break\n",
    "        \n",
    "    return mu, sigma, tau, iteration\n"
   ]
  },
  {
   "cell_type": "markdown",
   "metadata": {},
   "source": [
    "## Setting 3"
   ]
  },
  {
   "cell_type": "markdown",
   "metadata": {},
   "source": [
    "### Seed: Fixed, Size: 30000, N_comp: 3"
   ]
  },
  {
   "cell_type": "code",
   "execution_count": 20,
   "metadata": {},
   "outputs": [],
   "source": [
    "time_list_naive_large = []\n",
    "\n",
    "np.random.seed(42)\n",
    "for i in range(10):\n",
    "    \n",
    "    X1 = np.random.normal(loc = 20., scale = 3.1, size= 10000) \n",
    "    X2 = np.random.normal(loc = 3., scale = 2.3, size= 10000) \n",
    "    X3 = np.random.normal(loc = -5., scale = 1.4, size= 10000) \n",
    "    X_tot = np.hstack((X1,X2,X3)).flatten()\n",
    "    \n",
    "    mu = np.array([15.,6.,-7.])\n",
    "    tau = np.array([1/3,1/3,1/3])\n",
    "    sigma = np.array([8.,3.5,1.3])\n",
    "    q = np.zeros((len(X_tot),3))\n",
    "    \n",
    "    t1 = time.time()\n",
    "    GMM_EM(X_tot, mu, sigma, 10000, tau, q)\n",
    "    t2 = time.time()\n",
    "    \n",
    "    time_list_naive_large.append(t2-t1)"
   ]
  },
  {
   "cell_type": "code",
   "execution_count": 21,
   "metadata": {},
   "outputs": [],
   "source": [
    "time_list_njit_large = []\n",
    "\n",
    "np.random.seed(42)\n",
    "for i in range(10):\n",
    "    \n",
    "    X1 = np.random.normal(loc = 20., scale = 3.1, size= 10000) \n",
    "    X2 = np.random.normal(loc = 3., scale = 2.3, size= 10000) \n",
    "    X3 = np.random.normal(loc = -5., scale = 1.4, size= 10000) \n",
    "    X_tot = np.hstack((X1,X2,X3)).flatten()\n",
    "    \n",
    "    mu = np.array([15.,6.,-7.])\n",
    "    tau = np.array([1/3,1/3,1/3])\n",
    "    sigma = np.array([8.,3.5,1.3])\n",
    "    q = np.zeros((len(X_tot),3))\n",
    "    \n",
    "    t1 = time.time()\n",
    "    test=GMM_EM_njit(X_tot, mu, sigma, 10000, tau, q,1e-15)\n",
    "    t2 = time.time()\n",
    "    \n",
    "    time_list_njit_large.append(t2-t1)"
   ]
  },
  {
   "cell_type": "code",
   "execution_count": 22,
   "metadata": {},
   "outputs": [],
   "source": [
    "time_list_njit_lazy_large = []\n",
    "\n",
    "np.random.seed(42)\n",
    "for i in range(10):\n",
    "    \n",
    "    X1 = np.random.normal(loc = 20., scale = 3.1, size= 10000) \n",
    "    X2 = np.random.normal(loc = 3., scale = 2.3, size= 10000) \n",
    "    X3 = np.random.normal(loc = -5., scale = 1.4, size= 10000) \n",
    "    X_tot = np.hstack((X1,X2,X3)).flatten()\n",
    "    \n",
    "    mu = np.array([15.,6.,-7.])\n",
    "    tau = np.array([1/3,1/3,1/3])\n",
    "    sigma = np.array([8.,3.5,1.3])\n",
    "    q = np.zeros((len(X_tot),3))\n",
    "    \n",
    "    t1 = time.time()\n",
    "    test=GMM_EM_njit_lazy(X_tot, mu, sigma, 10000, tau, q,1e-15)\n",
    "    t2 = time.time()\n",
    "    \n",
    "    time_list_njit_lazy_large.append(t2-t1)"
   ]
  },
  {
   "cell_type": "code",
   "execution_count": 23,
   "metadata": {},
   "outputs": [],
   "source": [
    "time_list_sklearn_large = []\n",
    "np.random.seed(42)\n",
    "for i in range(10):\n",
    "    \n",
    "    X1 = np.random.normal(loc = 20., scale = 3.1, size= 10000) \n",
    "    X2 = np.random.normal(loc = 3., scale = 2.3, size= 10000) \n",
    "    X3 = np.random.normal(loc = -5., scale = 1.4, size= 10000) \n",
    "    X_tot = np.hstack((X1,X2,X3)).flatten()\n",
    "    \n",
    "    t1 = time.time()\n",
    "    gmm = GMM(n_components= 3, random_state= 42, \n",
    "              means_init=np.array([15.,6.,-7.]).reshape(3,1), precisions_init= (np.array([1/8, 1/3.5, 1/1.3])).reshape(3,1,1)\n",
    "              ,max_iter=10000)\n",
    "    gmm.fit(X_tot.reshape(-1,1))\n",
    "    t2 = time.time()\n",
    "    \n",
    "    time_list_sklearn_large.append(t2-t1)"
   ]
  },
  {
   "cell_type": "code",
   "execution_count": 24,
   "metadata": {},
   "outputs": [
    {
     "name": "stdout",
     "output_type": "stream",
     "text": [
      "Setting 3\n",
      "naive time: 0.46084668636322024\n",
      "njit time (with compilation): 0.006787776947021484\n",
      "njit time (after compilation): 0.0069091055128309466\n",
      "njit time (with lazy compilation): 0.8402407169342041\n",
      "njit time (after lazy compilation): 0.006843434439765083\n",
      "sklearn time: 0.3260080814361572\n"
     ]
    }
   ],
   "source": [
    "print(\"Setting 3\")\n",
    "print(\"naive time: \" +str(np.mean(time_list_naive_large)))\n",
    "print(\"njit time (with compilation): \"+ str(time_list_njit_large[0]))\n",
    "print(\"njit time (after compilation): \" + str(np.mean(time_list_njit_large[1:])))\n",
    "print(\"njit time (with lazy compilation): \"+ str(time_list_njit_lazy_large[0]))\n",
    "print(\"njit time (after lazy compilation): \" + str(np.mean(time_list_njit_lazy_large[1:])))\n",
    "print(\"sklearn time: \" + str(np.mean(time_list_sklearn_large)))"
   ]
  },
  {
   "cell_type": "code",
   "execution_count": 25,
   "metadata": {},
   "outputs": [
    {
     "name": "stdout",
     "output_type": "stream",
     "text": [
      "naive std: 0.0028337829074993504\n",
      "njit std: 1.0966131239586986e-05\n",
      "njit lazy std: 1.1340610379406654e-05\n",
      "sklearn std: 0.011788988769400835\n"
     ]
    }
   ],
   "source": [
    "print(\"naive std: \" + str(np.std(time_list_naive_large)/np.sqrt(10)))\n",
    "print(\"njit std: \" + str(np.std(time_list_njit_large[1:])/np.sqrt(9)))\n",
    "print(\"njit lazy std: \" + str(np.std(time_list_njit_lazy_large[1:])/np.sqrt(9)))\n",
    "print(\"sklearn std: \"+ str(np.std(time_list_sklearn_large)/np.sqrt(10)))"
   ]
  },
  {
   "cell_type": "markdown",
   "metadata": {},
   "source": [
    "### Redefine the function for just-in-time compilation"
   ]
  },
  {
   "cell_type": "markdown",
   "metadata": {},
   "source": [
    "#### njit eager compilation"
   ]
  },
  {
   "cell_type": "code",
   "execution_count": 26,
   "metadata": {},
   "outputs": [],
   "source": [
    "@njit('float64[:](float64[:],float64,float64)')\n",
    "def normal_ll_njit(X, mu, sigma):\n",
    "    return np.exp(-(X-mu)**2 / (2 * sigma)) / np.sqrt(2*np.pi*sigma)\n",
    "\n",
    "\n",
    "\n",
    "@njit('float64(float64[:])')\n",
    "def nb_sum(x):\n",
    "    res = 0.0\n",
    "    for i in range(x.shape[0]):\n",
    "        res += x[i]\n",
    "    return res\n",
    "\n",
    "\n",
    "\n",
    "r_sig = types.Tuple([float64[:],float64[:],float64[:],int64])\n",
    "sig = r_sig(float64[:],float64[:],float64[:],int64,float64[:],float64[:,:],float64)\n",
    "\n",
    "\n",
    "@njit(sig)\n",
    "def GMM_EM_njit(X, mu, sigma, max_iter, tau, q, tol = 1e-15):\n",
    "    K = len(mu)\n",
    "    n = len(X)\n",
    "    \n",
    "    for iteration in range(max_iter):\n",
    "        for k in range(K):\n",
    "            ll = normal_ll_njit(X, mu[k], sigma[k])\n",
    "            q[:, k ] = tau[k] * ll\n",
    "        \n",
    "        for i in range(n):\n",
    "            q[i, :] /= nb_sum(q[i, :])\n",
    "        \n",
    "        mu_before = mu\n",
    "        sigma_before = sigma\n",
    "        tau_before = tau\n",
    "        \n",
    "        for k in range(K):\n",
    "            q_k = nb_sum(q[:, k])\n",
    "            mu[k] = nb_sum(q[:, k] * X) / q_k\n",
    "            sigma[k] = nb_sum(q[:, k] * (X - mu[k])**2) / q_k\n",
    "            tau[k]  = q_k / n\n",
    "            \n",
    "        mu_diff = np.max(np.abs(mu - mu_before))\n",
    "        sigma_diff = np.max(np.abs(sigma-sigma_before))\n",
    "        tau_diff = np.max(np.abs(tau - tau_before))\n",
    "        \n",
    "        diff = np.max(np.array([np.abs(mu_diff), np.abs(sigma_diff), np.abs(tau_diff)]))\n",
    "        \n",
    "        if ( (iteration > 1) & (diff < tol)): break\n",
    "        \n",
    "    return mu, sigma, tau, iteration\n"
   ]
  },
  {
   "cell_type": "markdown",
   "metadata": {},
   "source": [
    "#### njit lazy compilation"
   ]
  },
  {
   "cell_type": "code",
   "execution_count": 27,
   "metadata": {},
   "outputs": [],
   "source": [
    "@njit\n",
    "def normal_ll_njit_lazy(X, mu, sigma):\n",
    "    return np.exp(-(X-mu)**2 / (2 * sigma)) / np.sqrt(2*np.pi*sigma)\n",
    "\n",
    "\n",
    "\n",
    "@njit\n",
    "def nb_sum_lazy(x):\n",
    "    res = 0.0\n",
    "    for i in range(x.shape[0]):\n",
    "        res += x[i]\n",
    "    return res\n",
    "\n",
    "@njit\n",
    "def GMM_EM_njit_lazy(X, mu, sigma, max_iter, tau, q, tol = 1e-15):\n",
    "    K = len(mu)\n",
    "    n = len(X)\n",
    "    \n",
    "    for iteration in range(max_iter):\n",
    "        for k in range(K):\n",
    "            ll = normal_ll_njit_lazy(X, mu[k], sigma[k])\n",
    "            q[:, k ] = tau[k] * ll\n",
    "        \n",
    "        for i in range(n):\n",
    "            q[i, :] /= nb_sum_lazy(q[i, :])\n",
    "        \n",
    "        mu_before = mu\n",
    "        sigma_before = sigma\n",
    "        tau_before = tau\n",
    "        \n",
    "        for k in range(K):\n",
    "            q_k = nb_sum_lazy(q[:, k])\n",
    "            mu[k] = nb_sum_lazy(q[:, k] * X) / q_k\n",
    "            sigma[k] = nb_sum_lazy(q[:, k] * (X - mu[k])**2) / q_k\n",
    "            tau[k]  = q_k / n\n",
    "            \n",
    "        mu_diff = np.max(np.abs(mu - mu_before))\n",
    "        sigma_diff = np.max(np.abs(sigma-sigma_before))\n",
    "        tau_diff = np.max(np.abs(tau - tau_before))\n",
    "        \n",
    "        diff = np.max(np.array([np.abs(mu_diff), np.abs(sigma_diff), np.abs(tau_diff)]))\n",
    "        \n",
    "        if ( (iteration > 1) & (diff < tol)): break\n",
    "        \n",
    "    return mu, sigma, tau, iteration\n"
   ]
  },
  {
   "cell_type": "markdown",
   "metadata": {},
   "source": [
    "## Setting 4"
   ]
  },
  {
   "cell_type": "markdown",
   "metadata": {},
   "source": [
    "### Seed: Changed, Size: 30000, N_comp: 3"
   ]
  },
  {
   "cell_type": "code",
   "execution_count": 28,
   "metadata": {},
   "outputs": [],
   "source": [
    "time_list_naive_seed_large = []\n",
    "\n",
    "for j in range(10):\n",
    "    np.random.seed(42+j)\n",
    "    for i in range(10):\n",
    "        \n",
    "        X1 = np.random.normal(loc = 20., scale = 3.1, size= 10000) \n",
    "        X2 = np.random.normal(loc = 3., scale = 2.3, size= 10000) \n",
    "        X3 = np.random.normal(loc = -5., scale = 1.4, size= 10000) \n",
    "        X_tot = np.hstack((X1,X2,X3)).flatten()\n",
    "        \n",
    "        mu = np.array([15.,6.,-7.])\n",
    "        tau = np.array([1/3,1/3,1/3])\n",
    "        sigma = np.array([8.,3.5,1.3])\n",
    "        q = np.zeros((len(X_tot),3))\n",
    "        \n",
    "        t1 = time.time()\n",
    "        GMM_EM(X_tot, mu, sigma, 10000, tau, q)\n",
    "        t2 = time.time()\n",
    "        \n",
    "        time_list_naive_seed_large.append(t2-t1)"
   ]
  },
  {
   "cell_type": "code",
   "execution_count": 29,
   "metadata": {},
   "outputs": [],
   "source": [
    "time_list_njit_seed_large = []\n",
    "\n",
    "for j in range(10):\n",
    "    np.random.seed(42+j)\n",
    "    for i in range(10):\n",
    "        \n",
    "        X1 = np.random.normal(loc = 20., scale = 3.1, size= 10000) \n",
    "        X2 = np.random.normal(loc = 3., scale = 2.3, size= 10000) \n",
    "        X3 = np.random.normal(loc = -5., scale = 1.4, size= 10000) \n",
    "        X_tot = np.hstack((X1,X2,X3)).flatten()\n",
    "        \n",
    "        mu = np.array([15.,6.,-7.])\n",
    "        tau = np.array([1/3,1/3,1/3])\n",
    "        sigma = np.array([8.,3.5,1.3])\n",
    "        q = np.zeros((len(X_tot),3))\n",
    "        \n",
    "        t1 = time.time()\n",
    "        test=GMM_EM_njit(X_tot, mu, sigma, 10000, tau, q,1e-15)\n",
    "        t2 = time.time()\n",
    "        \n",
    "        time_list_njit_seed_large.append(t2-t1)"
   ]
  },
  {
   "cell_type": "code",
   "execution_count": 30,
   "metadata": {},
   "outputs": [],
   "source": [
    "time_list_njit_lazy_seed_large = []\n",
    "\n",
    "for j in range(10):\n",
    "    np.random.seed(42+j)\n",
    "    for i in range(10):\n",
    "        \n",
    "        X1 = np.random.normal(loc = 20., scale = 3.1, size= 10000) \n",
    "        X2 = np.random.normal(loc = 3., scale = 2.3, size= 10000) \n",
    "        X3 = np.random.normal(loc = -5., scale = 1.4, size= 10000) \n",
    "        X_tot = np.hstack((X1,X2,X3)).flatten()\n",
    "        \n",
    "        mu = np.array([15.,6.,-7.])\n",
    "        tau = np.array([1/3,1/3,1/3])\n",
    "        sigma = np.array([8.,3.5,1.3])\n",
    "        q = np.zeros((len(X_tot),3))\n",
    "        \n",
    "        t1 = time.time()\n",
    "        test=GMM_EM_njit_lazy(X_tot, mu, sigma, 10000, tau, q,1e-15)\n",
    "        t2 = time.time()\n",
    "        \n",
    "        time_list_njit_lazy_seed_large.append(t2-t1)"
   ]
  },
  {
   "cell_type": "code",
   "execution_count": 31,
   "metadata": {},
   "outputs": [],
   "source": [
    "time_list_sklearn_seed_large = []\n",
    "for j in range(10):\n",
    "    np.random.seed(42+j)\n",
    "    for i in range(10):\n",
    "        \n",
    "        X1 = np.random.normal(loc = 20., scale = 3.1, size= 10000) \n",
    "        X2 = np.random.normal(loc = 3., scale = 2.3, size= 10000) \n",
    "        X3 = np.random.normal(loc = -5., scale = 1.4, size= 10000) \n",
    "        X_tot = np.hstack((X1,X2,X3)).flatten()\n",
    "        \n",
    "        t1 = time.time()\n",
    "        gmm = GMM(n_components= 3, random_state= 42, \n",
    "                  means_init=np.array([15.,6.,-7.]).reshape(3,1), precisions_init= (np.array([1/8, 1/3.5, 1/1.3])).reshape(3,1,1)\n",
    "                  ,max_iter=10000)\n",
    "        gmm.fit(X_tot.reshape(-1,1))\n",
    "        t2 = time.time()\n",
    "        \n",
    "        time_list_sklearn_seed_large.append(t2-t1)"
   ]
  },
  {
   "cell_type": "code",
   "execution_count": 32,
   "metadata": {},
   "outputs": [
    {
     "name": "stdout",
     "output_type": "stream",
     "text": [
      "Setting 4\n",
      "naive time: 0.4546662449836731\n",
      "njit time (with compilation): 0.006796121597290039\n",
      "njit time (after compilation): 0.006801723229764688\n",
      "njit time (with lazy compilation): 0.8385603427886963\n",
      "njit time (after lazy compilation): 0.006747859897035541\n",
      "sklearn time: 0.35401684522628785\n"
     ]
    }
   ],
   "source": [
    "print(\"Setting 4\")\n",
    "print(\"naive time: \" +str(np.mean(time_list_naive_seed_large)))\n",
    "print(\"njit time (with compilation): \"+ str(time_list_njit_seed_large[0]))\n",
    "print(\"njit time (after compilation): \" + str(np.mean(time_list_njit_seed_large[1:])))\n",
    "print(\"njit time (with lazy compilation): \"+ str(time_list_njit_lazy_seed_large[0]))\n",
    "print(\"njit time (after lazy compilation): \" + str(np.mean(time_list_njit_lazy_seed_large[1:])))\n",
    "print(\"sklearn time: \" + str(np.mean(time_list_sklearn_seed_large)))"
   ]
  },
  {
   "cell_type": "code",
   "execution_count": 33,
   "metadata": {},
   "outputs": [
    {
     "name": "stdout",
     "output_type": "stream",
     "text": [
      "naive std: 0.0007027505919532101\n",
      "njit std: 1.921364747907913e-06\n",
      "njit lazy std: 7.126441128812109e-05\n",
      "sklearn std: 0.004203431475685767\n"
     ]
    }
   ],
   "source": [
    "print(\"naive std: \" + str(np.std(time_list_naive_seed_large)/np.sqrt(100)))\n",
    "print(\"njit std: \" + str(np.std(time_list_njit_seed_large[1:])/np.sqrt(99)))\n",
    "print(\"njit lazy std: \" + str(np.std(time_list_njit_lazy_seed_large[1:])/np.sqrt(99)))\n",
    "print(\"sklearn std: \"+ str(np.std(time_list_sklearn_seed_large)/np.sqrt(100)))"
   ]
  }
 ],
 "metadata": {
  "kernelspec": {
   "display_name": "numba",
   "language": "python",
   "name": "numba"
  },
  "language_info": {
   "codemirror_mode": {
    "name": "ipython",
    "version": 3
   },
   "file_extension": ".py",
   "mimetype": "text/x-python",
   "name": "python",
   "nbconvert_exporter": "python",
   "pygments_lexer": "ipython3",
   "version": "3.7.7"
  }
 },
 "nbformat": 4,
 "nbformat_minor": 2
}
