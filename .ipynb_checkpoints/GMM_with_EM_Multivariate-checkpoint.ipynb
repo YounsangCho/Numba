{
 "cells": [
  {
   "cell_type": "code",
   "execution_count": 1,
   "metadata": {},
   "outputs": [],
   "source": [
    "import numpy as np\n",
    "from numba import njit, float64, int64, types\n",
    "from sklearn.mixture import GaussianMixture as GMM\n",
    "import time"
   ]
  },
  {
   "cell_type": "markdown",
   "metadata": {},
   "source": [
    "## Naive Python code (Multivariate Normal)"
   ]
  },
  {
   "cell_type": "code",
   "execution_count": 2,
   "metadata": {},
   "outputs": [],
   "source": [
    "def multi_ll(X, mu, cov):\n",
    "    n = X.shape[0]\n",
    "    p = X.shape[1]\n",
    "    res = np.zeros(n)\n",
    "    \n",
    "    for i in range(n):\n",
    "        exp_inter = np.dot(np.dot((X[i, :] - mu).T, np.linalg.inv(cov)), \n",
    "                           (X[i, :] - mu)) / 2.\n",
    "        res[i] = (2*np.pi)**(-p/2) * np.linalg.det(cov)**(-0.5)*np.exp(-exp_inter)\n",
    "    \n",
    "    return res"
   ]
  },
  {
   "cell_type": "code",
   "execution_count": 3,
   "metadata": {},
   "outputs": [],
   "source": [
    "def GMM_EM_multi(X, mu, cov, max_iter, tau, q, tol = 1e-15):\n",
    "    n = X.shape[0]\n",
    "    p = X.shape[1]\n",
    "    K = mu.shape[0]\n",
    "    \n",
    "    for iteration in range(max_iter):\n",
    "        for k in range(K):\n",
    "            ll = multi_ll(X, mu[k, :], cov[:, :, k])\n",
    "            q[:, k] = tau[k] * ll\n",
    "            \n",
    "        for i in range(n):\n",
    "            q[i, :] /= np.sum(q[i, :])\n",
    "        \n",
    "        mu_before = mu\n",
    "        cov_before = cov\n",
    "        tau_before = tau\n",
    "        \n",
    "        for k in range(K):\n",
    "            q_k = np.sum(q[:, k])\n",
    "            mu[k, :] = np.sum(q[:, k].reshape(n,1)*X, axis=0) / q_k\n",
    "            cov[:, :, k] = np.dot((q[:, k].reshape(n,1) * (X - mu[k, :])).T, \n",
    "                                 (X - mu[k, :])) / q_k\n",
    "            tau[k] = q_k / n\n",
    "        \n",
    "        mu_diff = np.max(np.abs(mu - mu_before))\n",
    "        cov_diff = np.max(np.abs(cov - cov_before))\n",
    "        tau_diff = np.max(np.abs(tau - tau_before))\n",
    "        diff = np.max(np.array([np.abs(mu_diff), np.abs(cov_diff), np.abs(tau_diff)]))\n",
    "        \n",
    "        if ( (iteration > 1) & (diff < tol)):\n",
    "            break\n",
    "        \n",
    "    return mu, cov, tau, iteration"
   ]
  },
  {
   "cell_type": "markdown",
   "metadata": {},
   "source": [
    "## Numba Python code (Multivariate Normal)"
   ]
  },
  {
   "cell_type": "code",
   "execution_count": 4,
   "metadata": {},
   "outputs": [],
   "source": [
    "@njit('float64[:](float64[:,:],float64[:],float64[:,:])')\n",
    "def multi_ll_njit(X, mu, cov):\n",
    "    n = X.shape[0]\n",
    "    p = X.shape[1]\n",
    "    res = np.zeros(n)\n",
    "    \n",
    "    for i in range(n):\n",
    "        exp_inter = np.dot(np.dot((X[i, :] - mu).T, np.linalg.inv(cov)), \n",
    "                           (X[i, :] - mu)) / 2.\n",
    "        res[i] = (2*np.pi)**(-p/2) * np.linalg.det(cov)**(-0.5)*np.exp(-exp_inter)\n",
    "    \n",
    "    return res"
   ]
  },
  {
   "cell_type": "code",
   "execution_count": 5,
   "metadata": {},
   "outputs": [],
   "source": [
    "@njit('float64(float64[:])')\n",
    "def nb_sum(X):\n",
    "    res = 0.0\n",
    "    for i in range(X.shape[0]):\n",
    "        res += X[i]\n",
    "    \n",
    "    return res"
   ]
  },
  {
   "cell_type": "code",
   "execution_count": 6,
   "metadata": {},
   "outputs": [],
   "source": [
    "r_sig = types.Tuple([float64[:,:],float64[:,:,:],float64[:],int64])\n",
    "sig = r_sig(float64[:,:],float64[:,:],float64[:,:,:],int64,float64[:],float64[:,:],float64)"
   ]
  },
  {
   "cell_type": "code",
   "execution_count": 7,
   "metadata": {},
   "outputs": [],
   "source": [
    "@njit(sig)\n",
    "def GMM_EM_multi_njit(X, mu, cov, max_iter, tau, q, tol = 1e-08):\n",
    "    n = X.shape[0]\n",
    "    p = X.shape[1]\n",
    "    K = mu.shape[0]\n",
    "    \n",
    "    for iteration in range(max_iter):\n",
    "        for k in range(K):\n",
    "            ll = multi_ll_njit(X, mu[k, :], cov[:, :, k])\n",
    "            q[:, k] = tau[k] * ll\n",
    "            \n",
    "        for i in range(n):\n",
    "            q[i, :] /=  nb_sum(q[i, :])\n",
    "        \n",
    "        mu_before = mu\n",
    "        cov_before = cov\n",
    "        tau_before = tau\n",
    "        \n",
    "        for k in range(K):\n",
    "            q_k = nb_sum(q[:, k])\n",
    "            q = np.ascontiguousarray(q[:, k]).reshape(n,1)\n",
    "            mu[k, :] = np.sum(q * X, axis = 0) / q_k\n",
    "            cov[:, :, k] = np.dot((q*(X - mu[k, :])).T, (X - mu[k, :])) / q_k\n",
    "            tau[k] = q_k / n\n",
    "        \n",
    "        mu_diff = np.max(np.abs(mu - mu_before))\n",
    "        cov_diff = np.max(np.abs(cov - cov_before))\n",
    "        tau_diff = np.max(np.abs(tau - tau_before))\n",
    "        \n",
    "        diff = np.max(np.array([np.abs(mu_diff), np.abs(cov_diff), np.abs(tau_diff)]))\n",
    "        \n",
    "        if ( (iteration > 1 ) & (diff < tol)):\n",
    "            break\n",
    "        \n",
    "    return mu, cov, tau, iteration"
   ]
  },
  {
   "cell_type": "markdown",
   "metadata": {},
   "source": [
    "## Time Check"
   ]
  },
  {
   "cell_type": "code",
   "execution_count": 8,
   "metadata": {},
   "outputs": [],
   "source": [
    "time_list_naive_multi_large = []\n",
    "np.random.seed(42)\n",
    "\n",
    "for i in range(10):\n",
    "    \n",
    "    x1 = np.random.multivariate_normal([1.5, 2.5], [[1.2,0.4],[0.4,1.1]],size= 20000)\n",
    "    x2 = np.random.multivariate_normal([7.3, 10.2], [[1.5,0.5],[0.5,2.1]],size= 20000)\n",
    "    X_tot = np.vstack((x1,x2))\n",
    "    \n",
    "    mu = np.array([[1.,2.],[6.,8.]])\n",
    "    cov = np.array([[[1.,1.2],[0.,0.2]],[[0.,0.2],[1.,1.5]]])\n",
    "    q= np.zeros((len(X_tot),2))\n",
    "    tau = np.array([1/2,1/2])\n",
    "    \n",
    "    t1 = time.time()\n",
    "    GMM_EM_multi(X_tot, mu, cov, 10000 , tau , q)\n",
    "    t2 = time.time()\n",
    "    \n",
    "    time_list_naive_multi_large.append(t2-t1)"
   ]
  },
  {
   "cell_type": "code",
   "execution_count": 9,
   "metadata": {},
   "outputs": [],
   "source": [
    "time_list_njit_multi_large = []\n",
    "\n",
    "np.random.seed(42)\n",
    "\n",
    "for i in range(10):\n",
    "    \n",
    "    x1 = np.random.multivariate_normal([1.5, 2.5], [[1.2,0.4],[0.4,1.1]],size= 20000)\n",
    "    x2 = np.random.multivariate_normal([7.3, 10.2], [[1.5,0.5],[0.5,2.1]],size= 20000)\n",
    "    X_tot = np.vstack((x1,x2))\n",
    "    \n",
    "    mu = np.array([[1.,2.],[6.,8.]])\n",
    "    cov = np.array([[[1.,1.2],[0.,0.2]],[[0.,0.2],[1.,1.5]]])\n",
    "    q= np.zeros((len(X_tot),2))\n",
    "    tau = np.array([1/2,1/2])\n",
    "    \n",
    "    t1 = time.time()\n",
    "    test=GMM_EM_multi_njit(X_tot, mu, cov, 10000 , tau , q, 1e-08)\n",
    "    t2 = time.time()\n",
    "    \n",
    "    time_list_njit_multi_large.append(t2-t1)"
   ]
  },
  {
   "cell_type": "code",
   "execution_count": 10,
   "metadata": {},
   "outputs": [
    {
     "data": {
      "text/plain": [
       "(2, 2, 2)"
      ]
     },
     "execution_count": 10,
     "metadata": {},
     "output_type": "execute_result"
    }
   ],
   "source": [
    "cov = np.array([[[1.,1.2],[0.,0.2]],[[0.,0.2],[1.,1.5]]])\n",
    "precision = np.array([np.linalg.inv(cov[:,:,0]),np.linalg.inv(cov[:,:,1])])\n",
    "precision.shape"
   ]
  },
  {
   "cell_type": "code",
   "execution_count": 11,
   "metadata": {},
   "outputs": [],
   "source": [
    "time_list_sklearn_multi_large = []\n",
    "np.random.seed(42)\n",
    "for i in range(10):\n",
    "    \n",
    "    x1 = np.random.multivariate_normal([1.5, 2.5], [[1.2,0.4],[0.4,1.1]],size= 20000)\n",
    "    x2 = np.random.multivariate_normal([7.3, 10.2], [[1.5,0.5],[0.5,2.1]],size= 20000)\n",
    "    X_tot = np.vstack((x1,x2))\n",
    "    \n",
    "    t1 = time.time()\n",
    "    gmm = GMM(n_components= 2, random_state= 42 , covariance_type=\"full\" \n",
    "              ,means_init=np.array([[1.5,2.5],[7.3,10.2]]), precisions_init= precision\n",
    "              ,max_iter=10000)\n",
    "    gmm.fit(X_tot)\n",
    "    t2 = time.time()\n",
    "    \n",
    "    time_list_sklearn_multi_large.append(t2-t1)"
   ]
  },
  {
   "cell_type": "code",
   "execution_count": 12,
   "metadata": {},
   "outputs": [
    {
     "name": "stdout",
     "output_type": "stream",
     "text": [
      "22.590715217590333\n",
      "0.6996550559997559\n",
      "0.6929588847690158\n",
      "0.11344707012176514\n"
     ]
    }
   ],
   "source": [
    "print(np.mean(time_list_naive_multi_large))\n",
    "print(time_list_njit_multi_large[0])\n",
    "print(np.mean(time_list_njit_multi_large[1:]))\n",
    "print(np.mean(time_list_sklearn_multi_large))"
   ]
  },
  {
   "cell_type": "code",
   "execution_count": 13,
   "metadata": {},
   "outputs": [
    {
     "name": "stdout",
     "output_type": "stream",
     "text": [
      "0.15637913983578974\n",
      "0.022916451976872265\n",
      "0.0011782519058522488\n"
     ]
    }
   ],
   "source": [
    "print(np.std(time_list_naive_multi_large)/np.sqrt(10))\n",
    "print(np.std(time_list_njit_multi_large[1:])/np.sqrt(9))\n",
    "print(np.std(time_list_sklearn_multi_large)/np.sqrt(10))"
   ]
  }
 ],
 "metadata": {
  "kernelspec": {
   "display_name": "numba",
   "language": "python",
   "name": "numba"
  },
  "language_info": {
   "codemirror_mode": {
    "name": "ipython",
    "version": 3
   },
   "file_extension": ".py",
   "mimetype": "text/x-python",
   "name": "python",
   "nbconvert_exporter": "python",
   "pygments_lexer": "ipython3",
   "version": "3.7.7"
  }
 },
 "nbformat": 4,
 "nbformat_minor": 2
}
