{
 "cells": [
  {
   "cell_type": "code",
   "execution_count": 1,
   "metadata": {},
   "outputs": [],
   "source": [
    "import numpy as np\n",
    "from numba import njit, float64, int64\n",
    "import time"
   ]
  },
  {
   "cell_type": "markdown",
   "metadata": {},
   "source": [
    "## Naive Python code"
   ]
  },
  {
   "cell_type": "code",
   "execution_count": 2,
   "metadata": {},
   "outputs": [],
   "source": [
    "def est_null(mu1, mu2, n, iteration = 10000):\n",
    "    np.random.seed(42)\n",
    "    \n",
    "    x = np.random.normal(loc = mu1, size = n)\n",
    "    y = np.random.normal(loc = mu2, size = n)\n",
    "    \n",
    "    null_dist = np.zeros(iteration)\n",
    "    xy = np.r_[x,y]\n",
    "    \n",
    "    for i in range(iteration):\n",
    "        temp = np.random.permutation(xy)\n",
    "        temp_x, temp_y = temp[:n] , temp[n:]\n",
    "        null_dist[i] = np.mean(temp_x) - np.mean(temp_y)\n",
    "    \n",
    "    return null_dist"
   ]
  },
  {
   "cell_type": "markdown",
   "metadata": {},
   "source": [
    "## Numba Python code"
   ]
  },
  {
   "cell_type": "code",
   "execution_count": 4,
   "metadata": {},
   "outputs": [],
   "source": [
    "@njit('float64[:](float64[:],float64[:],float64[:],int64)')\n",
    "def njit_est_null(x, y, xy, iteration = 10000):\n",
    "    n = x.shape[0]\n",
    "    null_dist = np.zeros(iteration)\n",
    "    \n",
    "    np.random.seed(42)\n",
    "    for i in range(iteration):\n",
    "        temp = np.random.permutation(xy)\n",
    "        temp_x, temp_y = temp[:n], temp[n:]\n",
    "        null_dist[i] = np.mean(temp_x) - np.mean(temp_y)\n",
    "        \n",
    "    return null_dist"
   ]
  },
  {
   "cell_type": "markdown",
   "metadata": {},
   "source": [
    "## Compute p-value"
   ]
  },
  {
   "cell_type": "code",
   "execution_count": 5,
   "metadata": {},
   "outputs": [],
   "source": [
    "def compute_pvalue(mu1, mu2, n, null_dist, iteration = 10000):\n",
    "    \n",
    "    pvalue_vec = np.zeros(iteration)\n",
    "    \n",
    "    for i in range(iteration):\n",
    "        x = np.random.normal(loc = mu1, size = n)\n",
    "        y = np.random.normal(loc = mu2, size = n)\n",
    "    \n",
    "        diff_value = np.mean(x) - np.mean(y)\n",
    "        pvalue_vec[i] = 1.0 - np.mean(np.abs(diff_value) > np.abs(null_dist))\n",
    "        \n",
    "    return pvalue_vec"
   ]
  },
  {
   "cell_type": "markdown",
   "metadata": {},
   "source": [
    "## Setting 1: $\\mu_1 = 0, \\mu_2 = 0$ length = 50"
   ]
  },
  {
   "cell_type": "markdown",
   "metadata": {},
   "source": [
    "### Time for naive_python_code"
   ]
  },
  {
   "cell_type": "code",
   "execution_count": 6,
   "metadata": {},
   "outputs": [],
   "source": [
    "naive_time_1 = []\n",
    "np.random.seed(42)\n",
    "for i in range(10):\n",
    "    \n",
    "    t1 = time.time()\n",
    "    est_null(mu1 = 0, mu2 = 0, n=50)\n",
    "    t2 = time.time()\n",
    "    \n",
    "    naive_time_1.append(t2-t1)"
   ]
  },
  {
   "cell_type": "code",
   "execution_count": 7,
   "metadata": {},
   "outputs": [
    {
     "name": "stdout",
     "output_type": "stream",
     "text": [
      "0.3145370244979858\n",
      "0.007614325636712737\n"
     ]
    }
   ],
   "source": [
    "print(np.mean(naive_time_1))\n",
    "print(np.std(naive_time_1)/np.sqrt(10))"
   ]
  },
  {
   "cell_type": "markdown",
   "metadata": {},
   "source": [
    "### Time for nopython mode of just-in-time compilation "
   ]
  },
  {
   "cell_type": "code",
   "execution_count": 8,
   "metadata": {},
   "outputs": [],
   "source": [
    "njit_time_1 = []\n",
    "np.random.seed(42)\n",
    "for i in range(10):\n",
    "    t1 = time.time()\n",
    "    x = np.random.normal(loc=0, size = 50)\n",
    "    y = np.random.normal(loc=0, size = 50)\n",
    "    xy = np.r_[x,y]\n",
    "    njit_est_null(x,y,xy,iteration=10000)\n",
    "    t2 = time.time()\n",
    "    \n",
    "    njit_time_1.append(t2-t1)"
   ]
  },
  {
   "cell_type": "code",
   "execution_count": 9,
   "metadata": {},
   "outputs": [
    {
     "name": "stdout",
     "output_type": "stream",
     "text": [
      "0.022687435150146484\n",
      "0.018136686748928495\n",
      "0.0007541533357192311\n"
     ]
    }
   ],
   "source": [
    "print(njit_time_1[0])\n",
    "print(np.mean(njit_time_1[1:]))\n",
    "print(np.std(njit_time_1[1:])/np.sqrt(9))"
   ]
  },
  {
   "cell_type": "markdown",
   "metadata": {},
   "source": [
    "### Compute p-value given by computed null distribution"
   ]
  },
  {
   "cell_type": "code",
   "execution_count": 11,
   "metadata": {},
   "outputs": [],
   "source": [
    "np.random.seed(42)\n",
    "x = np.random.normal(loc=0, size = 50)\n",
    "y = np.random.normal(loc=0, size = 50)\n",
    "xy = np.r_[x,y]\n",
    "null_dist_1 = njit_est_null(x,y,xy,iteration = 10000)"
   ]
  },
  {
   "cell_type": "code",
   "execution_count": 12,
   "metadata": {},
   "outputs": [],
   "source": [
    "pvalue_vec1=compute_pvalue(mu1 = 0, mu2 = 0, n =50, null_dist = null_dist_1)\n",
    "\n",
    "#size \n",
    "size_power1= np.mean(pvalue_vec1 < 0.05) "
   ]
  },
  {
   "cell_type": "markdown",
   "metadata": {},
   "source": [
    "## Setting 2: $\\mu_1 = 0, \\mu_2 = 0.5$ length = 100"
   ]
  },
  {
   "cell_type": "markdown",
   "metadata": {},
   "source": [
    "### Time for naive_python_code"
   ]
  },
  {
   "cell_type": "code",
   "execution_count": 13,
   "metadata": {},
   "outputs": [],
   "source": [
    "naive_time_2 = []\n",
    "np.random.seed(42)\n",
    "for i in range(10):\n",
    "    \n",
    "    t1 = time.time()\n",
    "    est_null(mu1 = 0, mu2 = 0.5, n=100)\n",
    "    t2 = time.time()\n",
    "    \n",
    "    naive_time_2.append(t2-t1)"
   ]
  },
  {
   "cell_type": "code",
   "execution_count": 14,
   "metadata": {},
   "outputs": [
    {
     "name": "stdout",
     "output_type": "stream",
     "text": [
      "0.3664196252822876\n",
      "0.027012921819173575\n"
     ]
    }
   ],
   "source": [
    "print(np.mean(naive_time_2))\n",
    "print(np.std(naive_time_2)/np.sqrt(10))"
   ]
  },
  {
   "cell_type": "markdown",
   "metadata": {},
   "source": [
    "### Time for nopython mode of just-in-time compilation "
   ]
  },
  {
   "cell_type": "code",
   "execution_count": 19,
   "metadata": {},
   "outputs": [],
   "source": [
    "## Redefine the njit function to recompile\n",
    "@njit('float64[:](float64[:],float64[:],float64[:],int64)')\n",
    "def njit_est_null(x, y, xy, iteration = 10000):\n",
    "    n = x.shape[0]\n",
    "    null_dist = np.zeros(iteration)\n",
    "    \n",
    "    np.random.seed(42)\n",
    "    for i in range(iteration):\n",
    "        temp = np.random.permutation(xy)\n",
    "        temp_x, temp_y = temp[:n], temp[n:]\n",
    "        null_dist[i] = np.mean(temp_x) - np.mean(temp_y)\n",
    "        \n",
    "    return null_dist"
   ]
  },
  {
   "cell_type": "code",
   "execution_count": 20,
   "metadata": {},
   "outputs": [],
   "source": [
    "njit_time_2 = []\n",
    "np.random.seed(42)\n",
    "for i in range(10):\n",
    "    t1 = time.time()\n",
    "    x = np.random.normal(loc=0, size = 100)\n",
    "    y = np.random.normal(loc=0.5, size = 100)\n",
    "    xy = np.r_[x,y]\n",
    "    njit_est_null(x,y,xy,iteration=10000)\n",
    "    t2 = time.time()\n",
    "    \n",
    "    njit_time_2.append(t2-t1)"
   ]
  },
  {
   "cell_type": "code",
   "execution_count": 21,
   "metadata": {},
   "outputs": [
    {
     "name": "stdout",
     "output_type": "stream",
     "text": [
      "0.035750389099121094\n",
      "0.03679770893520779\n",
      "0.002996340052900353\n"
     ]
    }
   ],
   "source": [
    "print(njit_time_2[0])\n",
    "print(np.mean(njit_time_2[1:]))\n",
    "print(np.std(njit_time_2[1:])/np.sqrt(9))"
   ]
  },
  {
   "cell_type": "markdown",
   "metadata": {},
   "source": [
    "### Compute p-value given by computed null distribution"
   ]
  },
  {
   "cell_type": "code",
   "execution_count": 22,
   "metadata": {},
   "outputs": [],
   "source": [
    "np.random.seed(42)\n",
    "x = np.random.normal(loc=0, size = 100)\n",
    "y = np.random.normal(loc=0.5, size = 100)\n",
    "xy = np.r_[x,y]\n",
    "null_dist_2 = njit_est_null(x,y,xy,iteration = 10000)"
   ]
  },
  {
   "cell_type": "code",
   "execution_count": 25,
   "metadata": {},
   "outputs": [],
   "source": [
    "pvalue_vec2=compute_pvalue(mu1 = 0, mu2 = 0.5, n =100, null_dist = null_dist_2)\n",
    "\n",
    "#power \n",
    "size_power2= np.mean(pvalue_vec2 < 0.05) "
   ]
  },
  {
   "cell_type": "code",
   "execution_count": 26,
   "metadata": {},
   "outputs": [
    {
     "data": {
      "text/plain": [
       "0.9495"
      ]
     },
     "execution_count": 26,
     "metadata": {},
     "output_type": "execute_result"
    }
   ],
   "source": [
    "size_power2"
   ]
  }
 ],
 "metadata": {
  "kernelspec": {
   "display_name": "numba",
   "language": "python",
   "name": "numba"
  },
  "language_info": {
   "codemirror_mode": {
    "name": "ipython",
    "version": 3
   },
   "file_extension": ".py",
   "mimetype": "text/x-python",
   "name": "python",
   "nbconvert_exporter": "python",
   "pygments_lexer": "ipython3",
   "version": "3.7.7"
  }
 },
 "nbformat": 4,
 "nbformat_minor": 2
}
